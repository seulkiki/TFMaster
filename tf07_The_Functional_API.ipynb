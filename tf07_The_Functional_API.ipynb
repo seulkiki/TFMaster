{
  "nbformat": 4,
  "nbformat_minor": 0,
  "metadata": {
    "colab": {
      "name": "tf07_The Functional API",
      "provenance": [],
      "collapsed_sections": [],
      "authorship_tag": "ABX9TyNCr1SZZDwFtTpJqXbAoO4i",
      "include_colab_link": true
    },
    "kernelspec": {
      "name": "python3",
      "display_name": "Python 3"
    },
    "language_info": {
      "name": "python"
    },
    "accelerator": "GPU"
  },
  "cells": [
    {
      "cell_type": "markdown",
      "metadata": {
        "id": "view-in-github",
        "colab_type": "text"
      },
      "source": [
        "<a href=\"https://colab.research.google.com/github/seulkiki/TFMaster/blob/master/tf07_The_Functional_API.ipynb\" target=\"_parent\"><img src=\"https://colab.research.google.com/assets/colab-badge.svg\" alt=\"Open In Colab\"/></a>"
      ]
    },
    {
      "cell_type": "markdown",
      "metadata": {
        "id": "GL_CYlzRYZdU"
      },
      "source": [
        "Functional API:input, out을 직접 구현가능"
      ]
    },
    {
      "cell_type": "code",
      "metadata": {
        "id": "lpgHpJ3v3jfF"
      },
      "source": [
        "import numpy as np\n",
        "import tensorflow as tf\n",
        "from tensorflow import keras\n",
        "from tensorflow.keras import layers"
      ],
      "execution_count": 1,
      "outputs": []
    },
    {
      "cell_type": "code",
      "metadata": {
        "id": "qoiT8hs_3taJ"
      },
      "source": [
        "inputs = keras.Input(shape =(784,))"
      ],
      "execution_count": 2,
      "outputs": []
    },
    {
      "cell_type": "code",
      "metadata": {
        "id": "0QU7tI_b35VB"
      },
      "source": [
        "# Just for demonstration purposes.\n",
        "img_inputs = keras.Input(shape=(32, 32, 3))"
      ],
      "execution_count": 3,
      "outputs": []
    },
    {
      "cell_type": "code",
      "metadata": {
        "colab": {
          "base_uri": "https://localhost:8080/"
        },
        "id": "Fndl_hl74WQi",
        "outputId": "a83038bd-49bf-4113-d5a3-eb46ed5935c2"
      },
      "source": [
        "inputs.shape"
      ],
      "execution_count": 4,
      "outputs": [
        {
          "output_type": "execute_result",
          "data": {
            "text/plain": [
              "TensorShape([None, 784])"
            ]
          },
          "metadata": {},
          "execution_count": 4
        }
      ]
    },
    {
      "cell_type": "code",
      "metadata": {
        "colab": {
          "base_uri": "https://localhost:8080/"
        },
        "id": "H07xTAPW4xdN",
        "outputId": "f1cca671-ff6a-431c-fe57-aa3aa8c392e1"
      },
      "source": [
        "inputs.dtype\n",
        "\n"
      ],
      "execution_count": 5,
      "outputs": [
        {
          "output_type": "execute_result",
          "data": {
            "text/plain": [
              "tf.float32"
            ]
          },
          "metadata": {},
          "execution_count": 5
        }
      ]
    },
    {
      "cell_type": "code",
      "metadata": {
        "id": "x2hOBfLl4O-H"
      },
      "source": [
        "dense = layers.Dense(64, activation=\"relu\")\n",
        "x = dense(inputs)"
      ],
      "execution_count": 6,
      "outputs": []
    },
    {
      "cell_type": "code",
      "metadata": {
        "id": "kZ32y-oi4FKV"
      },
      "source": [
        "x = layers.Dense(64, activation=\"relu\")(x)\n",
        "outputs = layers.Dense(10)(x)"
      ],
      "execution_count": 7,
      "outputs": []
    },
    {
      "cell_type": "code",
      "metadata": {
        "id": "RSBfV8WB4Gz6"
      },
      "source": [
        "model = keras.Model(inputs=inputs, outputs=outputs, name=\"mnist_model\")"
      ],
      "execution_count": 8,
      "outputs": []
    },
    {
      "cell_type": "code",
      "metadata": {
        "colab": {
          "base_uri": "https://localhost:8080/"
        },
        "id": "NA7y9ubU42qo",
        "outputId": "0a7e159c-9a0b-4f45-a841-7ce934292c48"
      },
      "source": [
        "model.summary()\n"
      ],
      "execution_count": 9,
      "outputs": [
        {
          "output_type": "stream",
          "name": "stdout",
          "text": [
            "Model: \"mnist_model\"\n",
            "_________________________________________________________________\n",
            "Layer (type)                 Output Shape              Param #   \n",
            "=================================================================\n",
            "input_1 (InputLayer)         [(None, 784)]             0         \n",
            "_________________________________________________________________\n",
            "dense (Dense)                (None, 64)                50240     \n",
            "_________________________________________________________________\n",
            "dense_1 (Dense)              (None, 64)                4160      \n",
            "_________________________________________________________________\n",
            "dense_2 (Dense)              (None, 10)                650       \n",
            "=================================================================\n",
            "Total params: 55,050\n",
            "Trainable params: 55,050\n",
            "Non-trainable params: 0\n",
            "_________________________________________________________________\n"
          ]
        }
      ]
    },
    {
      "cell_type": "code",
      "metadata": {
        "colab": {
          "base_uri": "https://localhost:8080/",
          "height": 369
        },
        "id": "ENHjvqDI43zB",
        "outputId": "f1127e65-7088-47d8-ba09-05932edd89ac"
      },
      "source": [
        "keras.utils.plot_model(model, \"my_first_model.png\")\n"
      ],
      "execution_count": 10,
      "outputs": [
        {
          "output_type": "execute_result",
          "data": {
            "image/png": "[encoded data removed]",
            "text/plain": [
              "<IPython.core.display.Image object>"
            ]
          },
          "metadata": {},
          "execution_count": 10
        }
      ]
    },
    {
      "cell_type": "code",
      "metadata": {
        "colab": {
          "base_uri": "https://localhost:8080/",
          "height": 422
        },
        "id": "2gzYUjF945IO",
        "outputId": "3fa1562a-4619-4f4e-b544-f4e6055d9b50"
      },
      "source": [
        "keras.utils.plot_model(model, \"my_first_model_with_shape_info.png\", show_shapes=True)\n"
      ],
      "execution_count": 11,
      "outputs": [
        {
          "output_type": "execute_result",
          "data": {
            "image/png": "[encoded data removed]",
            "text/plain": [
              "<IPython.core.display.Image object>"
            ]
          },
          "metadata": {},
          "execution_count": 11
        }
      ]
    },
    {
      "cell_type": "markdown",
      "metadata": {
        "id": "TAiMbS7q5KCp"
      },
      "source": [
        "Training, evaluation, and inference"
      ]
    },
    {
      "cell_type": "code",
      "metadata": {
        "colab": {
          "base_uri": "https://localhost:8080/"
        },
        "id": "GG5tWy7N46d1",
        "outputId": "50b0ad32-25a7-44d6-ad51-637b53726b04"
      },
      "source": [
        "(x_train, y_train), (x_test, y_test) = keras.datasets.mnist.load_data()\n",
        "\n",
        "x_train = x_train.reshape(60000, 784).astype(\"float32\") / 255\n",
        "x_test = x_test.reshape(10000, 784).astype(\"float32\") / 255\n",
        "\n",
        "model.compile(\n",
        "    loss=keras.losses.SparseCategoricalCrossentropy(from_logits=True),\n",
        "    optimizer=keras.optimizers.RMSprop(),\n",
        "    metrics=[\"accuracy\"],\n",
        ")\n",
        "\n",
        "history = model.fit(x_train, y_train, batch_size=64, epochs=2, validation_split=0.2)\n",
        "\n",
        "test_scores = model.evaluate(x_test, y_test, verbose=2)\n",
        "print(\"Test loss:\", test_scores[0])\n",
        "print(\"Test accuracy:\", test_scores[1])"
      ],
      "execution_count": 12,
      "outputs": [
        {
          "output_type": "stream",
          "name": "stdout",
          "text": [
            "Downloading data from https://storage.googleapis.com/tensorflow/tf-keras-datasets/mnist.npz\n",
            "11493376/11490434 [==============================] - 0s 0us/step\n",
            "11501568/11490434 [==============================] - 0s 0us/step\n",
            "Epoch 1/2\n",
            "750/750 [==============================] - 6s 4ms/step - loss: 0.3553 - accuracy: 0.8986 - val_loss: 0.1949 - val_accuracy: 0.9437\n",
            "Epoch 2/2\n",
            "750/750 [==============================] - 2s 3ms/step - loss: 0.1680 - accuracy: 0.9510 - val_loss: 0.1437 - val_accuracy: 0.9589\n",
            "313/313 - 1s - loss: 0.1452 - accuracy: 0.9577\n",
            "Test loss: 0.14515277743339539\n",
            "Test accuracy: 0.9577000141143799\n"
          ]
        }
      ]
    },
    {
      "cell_type": "markdown",
      "metadata": {
        "id": "rX-aS7bi5ZJE"
      },
      "source": [
        "Save and serialize"
      ]
    },
    {
      "cell_type": "code",
      "metadata": {
        "colab": {
          "base_uri": "https://localhost:8080/"
        },
        "id": "hY5295Tw5ebb",
        "outputId": "b930c2e4-0036-4c1c-9536-bcb4444f63b5"
      },
      "source": [
        "model.save(\"path_to_my_model\")\n",
        "del model\n",
        "# Recreate the exact same model purely from the file:\n",
        "model = keras.models.load_model(\"path_to_my_model\")"
      ],
      "execution_count": 14,
      "outputs": [
        {
          "output_type": "stream",
          "name": "stdout",
          "text": [
            "INFO:tensorflow:Assets written to: path_to_my_model/assets\n"
          ]
        }
      ]
    },
    {
      "cell_type": "code",
      "metadata": {
        "colab": {
          "base_uri": "https://localhost:8080/"
        },
        "id": "XNZ2spk65lMI",
        "outputId": "688395a6-7bc8-433a-ff54-8961ef021e6b"
      },
      "source": [
        "model.optimizer"
      ],
      "execution_count": 15,
      "outputs": [
        {
          "output_type": "execute_result",
          "data": {
            "text/plain": [
              "<keras.optimizer_v2.rmsprop.RMSprop at 0x7f6d3946bad0>"
            ]
          },
          "metadata": {},
          "execution_count": 15
        }
      ]
    },
    {
      "cell_type": "code",
      "metadata": {
        "colab": {
          "base_uri": "https://localhost:8080/"
        },
        "id": "zwdvsLEz5qEl",
        "outputId": "aac068bd-a2ca-4d10-c932-aea977d75890"
      },
      "source": [
        "model.weights"
      ],
      "execution_count": 16,
      "outputs": [
        {
          "output_type": "execute_result",
          "data": {
            "text/plain": [
              "[<tf.Variable 'dense/kernel:0' shape=(784, 64) dtype=float32, numpy=\n",
              " array([[-0.00645395, -0.0629871 ,  0.02625206, ..., -0.07987839,\n",
              "         -0.02172747,  0.05005688],\n",
              "        [-0.06879241,  0.03885052,  0.06838848, ...,  0.00589843,\n",
              "          0.03624913,  0.05769608],\n",
              "        [-0.01592999,  0.08289874,  0.04273053, ...,  0.04075046,\n",
              "         -0.07467115,  0.03388373],\n",
              "        ...,\n",
              "        [-0.01202109,  0.01132405, -0.01713265, ...,  0.05043217,\n",
              "         -0.06443904, -0.02958146],\n",
              "        [ 0.00395751, -0.06174815,  0.0040117 , ..., -0.05114968,\n",
              "         -0.06490763,  0.07625202],\n",
              "        [ 0.00844581,  0.05851554, -0.03169222, ..., -0.05433252,\n",
              "          0.05569579, -0.06646594]], dtype=float32)>,\n",
              " <tf.Variable 'dense/bias:0' shape=(64,) dtype=float32, numpy=\n",
              " array([-0.06215294,  0.11062591,  0.0590333 ,  0.01427541, -0.019578  ,\n",
              "         0.01677958,  0.09665208,  0.03730322, -0.03941038,  0.01137369,\n",
              "         0.01616202,  0.06845099,  0.03929361, -0.0263532 ,  0.07656977,\n",
              "         0.11094408,  0.06618174,  0.07310033, -0.00604803, -0.02804272,\n",
              "        -0.03538744,  0.05091381,  0.0375738 ,  0.07526913, -0.02914374,\n",
              "         0.01824801,  0.066828  ,  0.06471245,  0.03713945,  0.03689909,\n",
              "        -0.05548644,  0.03161129,  0.00603794, -0.00324222,  0.01952445,\n",
              "         0.10937808,  0.07494032, -0.07500578,  0.06682632, -0.08975579,\n",
              "        -0.01382253,  0.01672536,  0.01016393,  0.03662728, -0.01380718,\n",
              "        -0.02081278,  0.02987614, -0.00244273,  0.06729746,  0.01033559,\n",
              "        -0.06390205,  0.09594102,  0.06990106, -0.05167367, -0.03164679,\n",
              "        -0.02062155,  0.06244025,  0.06843884,  0.03139435, -0.06024921,\n",
              "        -0.02180907,  0.03324031, -0.00334192,  0.00406432], dtype=float32)>,\n",
              " <tf.Variable 'dense_1/kernel:0' shape=(64, 64) dtype=float32, numpy=\n",
              " array([[ 0.03689476,  0.0808301 ,  0.12858303, ...,  0.19892682,\n",
              "         -0.20885363,  0.09303319],\n",
              "        [ 0.13313113, -0.19850533, -0.13232946, ..., -0.06585713,\n",
              "          0.16120107,  0.12352166],\n",
              "        [ 0.20078631, -0.32402074,  0.19734128, ...,  0.01698091,\n",
              "         -0.07878608,  0.02392118],\n",
              "        ...,\n",
              "        [ 0.08730269, -0.21650812, -0.15932341, ..., -0.04567022,\n",
              "         -0.09516157,  0.08947644],\n",
              "        [-0.0945893 ,  0.00839094,  0.31534386, ..., -0.23456544,\n",
              "          0.32206532, -0.09692729],\n",
              "        [-0.1228895 , -0.18835197,  0.01314915, ..., -0.01837699,\n",
              "          0.18460645, -0.04489447]], dtype=float32)>,\n",
              " <tf.Variable 'dense_1/bias:0' shape=(64,) dtype=float32, numpy=\n",
              " array([ 0.13805534,  0.05014588,  0.00118521,  0.01484147, -0.03456174,\n",
              "         0.08283884,  0.01658402,  0.07019591, -0.00124843,  0.0193171 ,\n",
              "        -0.01442044,  0.07844707,  0.0477266 , -0.04311189,  0.05203257,\n",
              "        -0.00632068,  0.04624593,  0.02363586,  0.07057244,  0.01815985,\n",
              "         0.06184926, -0.03246539,  0.07943659,  0.07714628,  0.03857827,\n",
              "         0.04729469, -0.01186484,  0.11680164,  0.09301651,  0.06976437,\n",
              "         0.0472043 , -0.06452409,  0.09291101,  0.03043098,  0.00854322,\n",
              "         0.01039287, -0.00254002,  0.03925485,  0.0567892 , -0.00212192,\n",
              "        -0.03705664,  0.05077026,  0.02734344,  0.11237153, -0.02009907,\n",
              "         0.00955773,  0.03083438,  0.02847546, -0.07066468, -0.04101823,\n",
              "        -0.08504413,  0.05272074,  0.02783459, -0.01416248,  0.06298053,\n",
              "         0.0386715 ,  0.03377589,  0.08457372,  0.00096905, -0.01649178,\n",
              "         0.01586155,  0.02662699,  0.05626648,  0.01081682], dtype=float32)>,\n",
              " <tf.Variable 'dense_2/kernel:0' shape=(64, 10) dtype=float32, numpy=\n",
              " array([[ 1.55387670e-01,  5.82287163e-02, -1.40448138e-01,\n",
              "         -9.14778709e-02, -3.49665359e-02,  3.35607648e-01,\n",
              "         -4.20802176e-01,  1.31410092e-01, -5.83888181e-02,\n",
              "         -3.99878733e-02],\n",
              "        [-2.11126015e-01, -2.66185760e-01,  1.42576799e-01,\n",
              "         -4.08933610e-01,  7.62784779e-02,  8.92599821e-02,\n",
              "         -2.48742133e-01, -2.99204081e-01, -5.00155389e-02,\n",
              "         -3.23728472e-01],\n",
              "        [-4.19464350e-01, -2.63802677e-01, -1.58902466e-01,\n",
              "          1.88592136e-01,  2.01567486e-01,  2.10453331e-01,\n",
              "          1.77582204e-01, -2.89879918e-01,  1.07081182e-01,\n",
              "          3.10687780e-01],\n",
              "        [ 2.16105968e-01, -1.64767310e-01,  1.09020106e-01,\n",
              "          1.64201751e-01, -2.05207855e-01,  1.37741029e-01,\n",
              "         -4.31894511e-02, -3.40526253e-01, -2.81027276e-02,\n",
              "          2.67180894e-02],\n",
              "        [ 5.69701754e-03,  2.92709678e-01,  1.83281243e-01,\n",
              "         -1.88854158e-01, -3.23878139e-01, -2.95728117e-01,\n",
              "         -1.34905249e-01, -2.85358340e-01,  4.65966249e-03,\n",
              "          1.13612108e-01],\n",
              "        [ 2.22501963e-01,  1.06814831e-01, -9.03422982e-02,\n",
              "         -1.50323063e-01,  1.24238044e-01,  2.49162942e-01,\n",
              "          3.24623168e-01,  1.07047483e-01,  7.00074201e-03,\n",
              "         -3.50850374e-01],\n",
              "        [-1.91020325e-01, -3.55343610e-01,  2.53219783e-01,\n",
              "         -2.15412214e-01,  1.66609943e-01, -2.61618853e-01,\n",
              "          1.28773674e-01,  2.41892383e-01,  4.41877767e-02,\n",
              "          2.05049187e-01],\n",
              "        [-9.90356877e-02, -8.17001797e-04,  2.19264373e-01,\n",
              "          3.47737223e-01,  2.62824208e-01,  2.41498023e-01,\n",
              "         -3.66386771e-01, -9.41723064e-02,  3.17507982e-01,\n",
              "         -3.31883222e-01],\n",
              "        [-3.27077448e-01, -2.25195974e-01, -1.30301863e-01,\n",
              "         -4.46948707e-02, -2.71635860e-01, -3.33876342e-01,\n",
              "         -3.95000517e-01,  2.31107533e-01,  6.19047582e-02,\n",
              "         -3.02967250e-01],\n",
              "        [ 3.09413493e-01,  8.57934207e-02,  5.20047583e-02,\n",
              "         -3.63358796e-01, -9.96627808e-02,  1.00257978e-01,\n",
              "          2.81505883e-01, -2.39201277e-01, -1.34989128e-01,\n",
              "          2.46156529e-01],\n",
              "        [ 1.18253559e-01, -4.64934468e-01, -1.91023931e-01,\n",
              "         -3.93668190e-02,  3.48426312e-01, -3.92713487e-01,\n",
              "         -2.41282523e-01,  6.13034703e-02,  9.66339782e-02,\n",
              "         -1.54180735e-01],\n",
              "        [-3.60736936e-01,  2.35078990e-01,  3.32299359e-02,\n",
              "         -1.75380841e-01,  2.09590539e-01, -4.53273118e-01,\n",
              "          1.15984030e-01,  2.12559029e-02, -1.90405861e-01,\n",
              "         -2.40997732e-01],\n",
              "        [-1.60281584e-01, -3.74802828e-01,  2.04119273e-02,\n",
              "         -3.36626053e-01,  1.44515023e-01, -3.40328574e-01,\n",
              "          6.39919937e-02,  3.92282873e-01, -3.71802971e-02,\n",
              "         -2.63201922e-01],\n",
              "        [-2.77272433e-01, -4.83623505e-01,  2.45506883e-01,\n",
              "         -2.13133037e-01,  2.79220611e-01, -3.00522357e-01,\n",
              "          1.40849054e-01, -3.14954042e-01, -1.62781999e-01,\n",
              "          2.13898987e-01],\n",
              "        [ 2.20088258e-01, -1.04337126e-01,  1.82683259e-01,\n",
              "          2.63152122e-01, -2.73408175e-01,  8.40470716e-02,\n",
              "         -4.28123236e-01,  5.46847060e-02, -2.10035279e-01,\n",
              "         -1.15004748e-01],\n",
              "        [-1.37927994e-01, -9.39337909e-02,  2.65635341e-01,\n",
              "         -2.28991270e-01, -1.71031132e-01,  2.63798814e-02,\n",
              "          6.40147552e-02,  2.46412858e-01, -2.32944980e-01,\n",
              "          2.54991561e-01],\n",
              "        [-1.09871373e-01,  2.43329436e-01,  2.87807435e-01,\n",
              "         -1.51367873e-01, -2.98173875e-01, -1.25817850e-01,\n",
              "         -3.97212565e-01,  3.57876629e-01, -2.17478067e-01,\n",
              "          1.76444069e-01],\n",
              "        [ 1.62795857e-01,  2.09741388e-02, -2.89058052e-02,\n",
              "          1.95782542e-01, -1.65350869e-01,  3.10093939e-01,\n",
              "         -1.27742216e-01, -3.36403102e-01,  6.45162761e-02,\n",
              "         -4.64920960e-02],\n",
              "        [-5.25563121e-01,  1.82530865e-01, -5.74345551e-02,\n",
              "         -1.99643955e-01, -3.78561765e-01,  1.18562214e-01,\n",
              "         -5.05957380e-02,  1.47926956e-01,  2.31616959e-01,\n",
              "         -4.40380007e-01],\n",
              "        [ 2.34875858e-01, -3.48774284e-01, -1.94996342e-01,\n",
              "         -2.42710099e-01,  1.59403935e-01, -1.90070383e-02,\n",
              "          2.42006212e-01,  6.00794256e-02,  2.49455780e-01,\n",
              "         -2.51099855e-01],\n",
              "        [-3.17290545e-01,  2.97518343e-01, -5.47071338e-01,\n",
              "          2.49482274e-01,  6.15652986e-02,  2.00133026e-01,\n",
              "         -4.18409735e-01, -3.19568247e-01, -3.22221786e-01,\n",
              "          2.23067969e-01],\n",
              "        [-2.62393326e-01, -2.85652429e-01, -5.14880829e-02,\n",
              "          9.45074335e-02, -3.08393538e-01, -3.08126491e-02,\n",
              "         -1.54860273e-01,  6.99997917e-02,  3.44046474e-01,\n",
              "          1.92333519e-01],\n",
              "        [ 6.10342845e-02, -3.79936755e-01, -1.19247988e-01,\n",
              "         -1.21228471e-02, -4.42477316e-01,  1.42490044e-01,\n",
              "          1.93858519e-02, -1.30656278e-02, -2.10327446e-01,\n",
              "         -1.62232548e-01],\n",
              "        [-2.43026897e-01,  1.61270380e-01,  2.35596642e-01,\n",
              "         -1.49301723e-01, -3.29186767e-01,  1.02667607e-01,\n",
              "          3.39867443e-01, -2.60452926e-02, -5.90248071e-02,\n",
              "         -6.09511733e-01],\n",
              "        [ 2.77974188e-01, -3.07859778e-01,  4.87787824e-04,\n",
              "          1.78212404e-01, -2.33459413e-01, -6.61563054e-02,\n",
              "         -2.05048829e-01,  5.42069376e-02, -2.64819592e-01,\n",
              "         -1.24666825e-01],\n",
              "        [ 2.26530999e-01, -3.15047234e-01,  2.08404869e-01,\n",
              "         -7.23461956e-02, -1.06248215e-01,  2.68913537e-01,\n",
              "          1.66217610e-01,  2.49077514e-01,  1.87320635e-01,\n",
              "         -3.34223211e-01],\n",
              "        [-9.25330967e-02,  6.84289634e-02,  1.14754789e-01,\n",
              "         -2.75820285e-01, -1.92288890e-01,  1.88973293e-01,\n",
              "          1.69193089e-01, -1.78088844e-01,  2.36576512e-01,\n",
              "          1.61742136e-01],\n",
              "        [-1.04039475e-01, -4.12552714e-01, -4.84469503e-01,\n",
              "         -1.84242398e-01,  2.31217787e-01,  3.22601706e-01,\n",
              "         -5.54880574e-02,  2.50946641e-01, -2.01125756e-01,\n",
              "         -1.10868081e-01],\n",
              "        [ 1.74426660e-01, -4.83900726e-01, -4.66955602e-01,\n",
              "         -2.99770087e-01,  2.43948460e-01,  3.07338744e-01,\n",
              "          3.99545580e-02,  1.53184742e-01, -3.42085838e-01,\n",
              "          1.75008699e-01],\n",
              "        [-3.13682467e-01, -2.79100016e-02, -1.84161663e-02,\n",
              "          2.04482377e-02, -1.55266851e-01, -5.94993718e-02,\n",
              "         -5.22286296e-01,  2.64650822e-01, -2.81503946e-01,\n",
              "          2.30571479e-01],\n",
              "        [-3.05671841e-01,  1.91648960e-01,  3.46664578e-01,\n",
              "          6.66444600e-02, -2.03643948e-01,  1.30487129e-01,\n",
              "         -3.42029870e-01,  2.78306812e-01, -4.88797277e-01,\n",
              "         -5.53613484e-01],\n",
              "        [ 1.58051372e-01, -4.43187207e-02, -3.72452522e-03,\n",
              "          5.76176941e-02, -3.00681531e-01, -1.62006736e-01,\n",
              "         -4.09564972e-01, -3.35899070e-02,  2.80635893e-01,\n",
              "          1.46886319e-01],\n",
              "        [ 3.39429349e-01,  8.52901042e-02, -3.94194014e-02,\n",
              "         -1.12703594e-03, -3.93444806e-01,  3.04945707e-01,\n",
              "          2.21046314e-01, -1.34655014e-01, -3.12720507e-01,\n",
              "          8.24416876e-02],\n",
              "        [-2.74277687e-01,  3.48399669e-01,  2.76199542e-02,\n",
              "          3.06218147e-01, -1.00912020e-01, -1.57176942e-01,\n",
              "          2.37110704e-01,  8.02451894e-02,  2.29158491e-01,\n",
              "          5.53448647e-02],\n",
              "        [-9.33481231e-02,  1.26809970e-01,  3.36998403e-01,\n",
              "          1.33944795e-01, -3.92223805e-01, -3.02856296e-01,\n",
              "         -2.93424904e-01, -9.65976417e-02, -3.14715624e-01,\n",
              "          1.81168184e-01],\n",
              "        [-2.39087120e-01, -2.88118333e-01,  3.12501580e-01,\n",
              "         -1.88479155e-01,  1.49872154e-01, -3.20112765e-01,\n",
              "          1.16546109e-01,  1.62693262e-01, -2.16363207e-01,\n",
              "          1.40091076e-01],\n",
              "        [ 9.28498432e-02, -3.48570943e-01, -2.69573718e-01,\n",
              "          2.21418411e-01, -2.85428315e-01, -1.33456290e-01,\n",
              "         -3.13668579e-01,  1.92288131e-01, -1.19796619e-01,\n",
              "          1.69106975e-01],\n",
              "        [-4.13620651e-01,  2.30337635e-01,  2.38311961e-02,\n",
              "          1.83843300e-02,  2.53051728e-01,  1.77819952e-01,\n",
              "          6.05120547e-02, -2.38767728e-01,  2.25045457e-01,\n",
              "         -1.04535267e-01],\n",
              "        [-3.31005812e-01, -4.77981508e-01,  7.80942440e-02,\n",
              "         -2.22567633e-01,  1.93881556e-01,  7.19964430e-02,\n",
              "          6.96462533e-03, -8.98462161e-02,  2.85059772e-02,\n",
              "         -4.13875550e-01],\n",
              "        [ 1.99983358e-01, -2.75765747e-01, -1.37041867e-01,\n",
              "          2.19203591e-01,  4.80588749e-02,  2.64012422e-02,\n",
              "          7.38928840e-02,  1.45589054e-01,  2.27586150e-01,\n",
              "         -2.26930812e-01],\n",
              "        [ 1.12042673e-01, -2.88166583e-01,  1.07961506e-01,\n",
              "         -1.93508998e-01, -2.55790830e-01, -2.14999706e-01,\n",
              "          1.88085198e-01, -7.04751909e-02, -2.21155986e-01,\n",
              "         -5.32724941e-03],\n",
              "        [-4.52746272e-01,  1.82642817e-01, -3.46458852e-01,\n",
              "         -3.33069444e-01,  1.59116015e-01,  6.32460639e-02,\n",
              "         -4.75761533e-01,  1.97709486e-01,  2.95168906e-01,\n",
              "          1.07426435e-01],\n",
              "        [-2.60650460e-02,  1.76862761e-01,  2.10897967e-01,\n",
              "          3.08013916e-01,  1.34230837e-01, -9.39686373e-02,\n",
              "          2.49873221e-01, -1.96885914e-01,  1.74951464e-01,\n",
              "         -4.82338518e-01],\n",
              "        [-1.39560238e-01, -3.04352432e-01,  7.19453022e-02,\n",
              "          7.53203779e-02, -4.74113822e-01,  3.71297449e-01,\n",
              "          3.70157626e-03,  3.54729109e-02, -4.07271057e-01,\n",
              "         -1.19981520e-01],\n",
              "        [ 2.61672903e-02, -3.09623331e-01, -4.08087820e-02,\n",
              "         -1.11211874e-02,  1.32550791e-01,  6.70064380e-03,\n",
              "         -2.35200837e-01,  6.36451393e-02,  2.79322475e-01,\n",
              "         -1.07568271e-01],\n",
              "        [-2.06887990e-01, -3.37586462e-01,  1.96938917e-01,\n",
              "         -1.08620092e-01,  7.21792281e-02,  1.93165854e-01,\n",
              "          2.34945193e-01, -1.00228295e-01,  2.05452576e-01,\n",
              "         -9.43127424e-02],\n",
              "        [-2.40226269e-01,  2.07038701e-01,  2.02380821e-01,\n",
              "         -3.93238634e-01,  2.37710178e-01, -7.56852180e-02,\n",
              "         -2.31183156e-01,  5.14070690e-02, -3.10961038e-01,\n",
              "         -2.52073497e-01],\n",
              "        [-1.98359907e-01,  2.69402295e-01,  1.27651751e-01,\n",
              "          4.47065830e-02, -2.72111863e-01,  2.16400310e-01,\n",
              "          6.96629062e-02, -2.98224330e-01,  2.66159654e-01,\n",
              "          9.40732807e-02],\n",
              "        [-1.95305422e-02, -4.57367748e-01, -1.26924708e-01,\n",
              "          1.90653101e-01,  1.64688751e-01, -1.28099427e-01,\n",
              "         -1.64315477e-01,  1.32623836e-01,  3.13550144e-01,\n",
              "          2.67779946e-01],\n",
              "        [-4.52478915e-01,  1.22672670e-01, -3.70665610e-01,\n",
              "          1.45478085e-01,  2.56197214e-01, -1.30556062e-01,\n",
              "         -3.78482044e-01, -3.90642464e-01,  6.08059019e-02,\n",
              "          1.68034583e-01],\n",
              "        [-5.87797910e-03,  1.18318312e-01,  7.83913955e-02,\n",
              "         -1.01402879e-01, -2.58357882e-01, -2.51083255e-01,\n",
              "          1.86240837e-01, -3.46590608e-01,  1.98935360e-01,\n",
              "          3.15901078e-02],\n",
              "        [ 6.63640425e-02,  5.89444535e-03, -2.16015980e-01,\n",
              "         -2.33297288e-01,  1.28362164e-01,  1.92699835e-01,\n",
              "          6.77851439e-02, -5.37749939e-02, -4.70617861e-01,\n",
              "          2.49301672e-01],\n",
              "        [-3.83249104e-01, -1.35330290e-01, -2.77537942e-01,\n",
              "          3.15637231e-01, -7.18893558e-02,  1.39177274e-02,\n",
              "          2.68296096e-02, -4.96555746e-01, -8.34761709e-02,\n",
              "         -3.51559252e-01],\n",
              "        [-2.10633323e-01,  1.87801216e-02,  2.00012565e-01,\n",
              "         -9.27192643e-02,  1.73482925e-01,  4.87765856e-02,\n",
              "         -3.50128859e-01, -3.05944026e-01,  1.30229525e-03,\n",
              "          1.57036111e-01],\n",
              "        [-9.06914473e-02,  2.05333829e-01,  1.19346187e-01,\n",
              "         -1.97511315e-01,  3.51841211e-01,  3.23060960e-01,\n",
              "         -4.14634533e-02, -3.68497670e-01, -5.51824391e-01,\n",
              "          2.09012151e-01],\n",
              "        [-7.33647821e-03,  5.91015294e-02,  2.10511580e-01,\n",
              "          5.54138236e-02, -3.40042591e-01, -6.49375468e-02,\n",
              "          2.91795194e-01, -1.99798984e-03, -3.68266404e-01,\n",
              "          3.45232077e-02],\n",
              "        [-1.06463596e-01, -2.22123116e-01,  1.00600027e-01,\n",
              "         -1.50120154e-01, -1.86063454e-01,  2.75901020e-01,\n",
              "         -3.18130314e-01,  2.30005264e-01,  5.37715368e-02,\n",
              "         -2.90420383e-01],\n",
              "        [ 1.24344416e-01,  1.13333367e-01, -4.62230623e-01,\n",
              "         -7.29314610e-02,  2.85190552e-01,  2.60983378e-01,\n",
              "         -1.18913025e-01,  3.64948660e-02, -3.83661538e-01,\n",
              "         -2.54335672e-01],\n",
              "        [ 1.83306262e-01,  8.84440318e-02,  1.64492756e-01,\n",
              "          2.31665716e-01,  7.01602325e-02, -1.73805386e-01,\n",
              "          1.34557515e-01,  1.10148512e-01, -2.27860995e-02,\n",
              "          2.03506693e-01],\n",
              "        [ 1.11741640e-01,  4.05623997e-03, -2.63044000e-01,\n",
              "         -3.65237027e-01,  1.58652171e-01, -3.62640798e-01,\n",
              "          3.65937471e-01, -3.04869950e-01,  1.71343252e-01,\n",
              "         -1.05683126e-01],\n",
              "        [-9.65708420e-02,  6.64080083e-02, -3.71222466e-01,\n",
              "          1.88625246e-01,  1.99469909e-01, -4.91034389e-01,\n",
              "          6.19852543e-02,  2.61749089e-01, -1.22491732e-01,\n",
              "          2.49623641e-01],\n",
              "        [-1.85215473e-01,  2.91595906e-02, -2.50225931e-01,\n",
              "          1.46469593e-01, -4.34564680e-01, -6.70022145e-02,\n",
              "          1.12717482e-03,  1.90779060e-01,  1.24089606e-01,\n",
              "         -3.78255010e-01],\n",
              "        [-2.24868163e-01,  2.98028618e-01, -4.45252545e-02,\n",
              "          9.58311930e-03,  3.33286792e-01, -4.54587221e-01,\n",
              "          5.51066734e-02,  1.65679693e-01, -3.20280045e-01,\n",
              "          1.60715997e-01],\n",
              "        [ 8.13261792e-02, -3.08429509e-01, -1.31824091e-01,\n",
              "         -4.97454673e-01, -2.39672326e-02,  2.07748860e-02,\n",
              "          1.78984269e-01, -2.96439201e-01, -4.62752059e-02,\n",
              "          1.05471075e-01]], dtype=float32)>,\n",
              " <tf.Variable 'dense_2/bias:0' shape=(10,) dtype=float32, numpy=\n",
              " array([-0.00692256,  0.01777138, -0.01179874,  0.01440128, -0.01056988,\n",
              "         0.09815789, -0.01942981,  0.0385917 , -0.06532612, -0.06860498],\n",
              "       dtype=float32)>]"
            ]
          },
          "metadata": {},
          "execution_count": 16
        }
      ]
    },
    {
      "cell_type": "markdown",
      "metadata": {
        "id": "cVa5mDx25vfX"
      },
      "source": [
        "Use the same graph of layers to define multiple models"
      ]
    },
    {
      "cell_type": "code",
      "metadata": {
        "colab": {
          "base_uri": "https://localhost:8080/"
        },
        "id": "RkU7HBe65sUB",
        "outputId": "2bf69fd2-90ab-4820-b125-a331394e4e7f"
      },
      "source": [
        "encoder_input = keras.Input(shape=(28, 28, 1), name=\"img\")\n",
        "x = layers.Conv2D(16, 3, activation=\"relu\")(encoder_input)\n",
        "x = layers.Conv2D(32, 3, activation=\"relu\")(x)\n",
        "x = layers.MaxPooling2D(3)(x)\n",
        "x = layers.Conv2D(32, 3, activation=\"relu\")(x)\n",
        "x = layers.Conv2D(16, 3, activation=\"relu\")(x)\n",
        "encoder_output = layers.GlobalMaxPooling2D()(x)\n",
        "\n",
        "encoder = keras.Model(encoder_input, encoder_output, name=\"encoder\")\n",
        "encoder.summary()\n",
        "\n",
        "x = layers.Reshape((4, 4, 1))(encoder_output)\n",
        "x = layers.Conv2DTranspose(16, 3, activation=\"relu\")(x)\n",
        "x = layers.Conv2DTranspose(32, 3, activation=\"relu\")(x)\n",
        "x = layers.UpSampling2D(3)(x)\n",
        "x = layers.Conv2DTranspose(16, 3, activation=\"relu\")(x)\n",
        "decoder_output = layers.Conv2DTranspose(1, 3, activation=\"relu\")(x)\n",
        "\n",
        "autoencoder = keras.Model(encoder_input, decoder_output, name=\"autoencoder\")\n",
        "autoencoder.summary()\n"
      ],
      "execution_count": 18,
      "outputs": [
        {
          "output_type": "stream",
          "name": "stdout",
          "text": [
            "Model: \"encoder\"\n",
            "_________________________________________________________________\n",
            "Layer (type)                 Output Shape              Param #   \n",
            "=================================================================\n",
            "img (InputLayer)             [(None, 28, 28, 1)]       0         \n",
            "_________________________________________________________________\n",
            "conv2d (Conv2D)              (None, 26, 26, 16)        160       \n",
            "_________________________________________________________________\n",
            "conv2d_1 (Conv2D)            (None, 24, 24, 32)        4640      \n",
            "_________________________________________________________________\n",
            "max_pooling2d (MaxPooling2D) (None, 8, 8, 32)          0         \n",
            "_________________________________________________________________\n",
            "conv2d_2 (Conv2D)            (None, 6, 6, 32)          9248      \n",
            "_________________________________________________________________\n",
            "conv2d_3 (Conv2D)            (None, 4, 4, 16)          4624      \n",
            "_________________________________________________________________\n",
            "global_max_pooling2d (Global (None, 16)                0         \n",
            "=================================================================\n",
            "Total params: 18,672\n",
            "Trainable params: 18,672\n",
            "Non-trainable params: 0\n",
            "_________________________________________________________________\n",
            "Model: \"autoencoder\"\n",
            "_________________________________________________________________\n",
            "Layer (type)                 Output Shape              Param #   \n",
            "=================================================================\n",
            "img (InputLayer)             [(None, 28, 28, 1)]       0         \n",
            "_________________________________________________________________\n",
            "conv2d (Conv2D)              (None, 26, 26, 16)        160       \n",
            "_________________________________________________________________\n",
            "conv2d_1 (Conv2D)            (None, 24, 24, 32)        4640      \n",
            "_________________________________________________________________\n",
            "max_pooling2d (MaxPooling2D) (None, 8, 8, 32)          0         \n",
            "_________________________________________________________________\n",
            "conv2d_2 (Conv2D)            (None, 6, 6, 32)          9248      \n",
            "_________________________________________________________________\n",
            "conv2d_3 (Conv2D)            (None, 4, 4, 16)          4624      \n",
            "_________________________________________________________________\n",
            "global_max_pooling2d (Global (None, 16)                0         \n",
            "_________________________________________________________________\n",
            "reshape (Reshape)            (None, 4, 4, 1)           0         \n",
            "_________________________________________________________________\n",
            "conv2d_transpose (Conv2DTran (None, 6, 6, 16)          160       \n",
            "_________________________________________________________________\n",
            "conv2d_transpose_1 (Conv2DTr (None, 8, 8, 32)          4640      \n",
            "_________________________________________________________________\n",
            "up_sampling2d (UpSampling2D) (None, 24, 24, 32)        0         \n",
            "_________________________________________________________________\n",
            "conv2d_transpose_2 (Conv2DTr (None, 26, 26, 16)        4624      \n",
            "_________________________________________________________________\n",
            "conv2d_transpose_3 (Conv2DTr (None, 28, 28, 1)         145       \n",
            "=================================================================\n",
            "Total params: 28,241\n",
            "Trainable params: 28,241\n",
            "Non-trainable params: 0\n",
            "_________________________________________________________________\n"
          ]
        }
      ]
    },
    {
      "cell_type": "markdown",
      "metadata": {
        "id": "opad93lj7HUM"
      },
      "source": [
        "autoencoder: 차원축소해서 특징을 뽑기\n",
        "\n",
        "가중치가 학습이 안되서 잘 대변하지 못함.\n",
        "학습시키기 위해서 loss가 필요함(\n",
        "\n",
        "  원본을 복구해서 복구된 이미지와 유사한지 loss를 두고 계산을 한다.\n",
        "\n",
        "  최대한 유사한 방향으로 학습을 하면 그 차원 축소에서 추출한 것이 잘 가져온 것이다.\n",
        "\n",
        " # 오토인코더 구조"
      ]
    },
    {
      "cell_type": "code",
      "metadata": {
        "colab": {
          "base_uri": "https://localhost:8080/"
        },
        "id": "ZOM50noA6fkN",
        "outputId": "49fc4583-ef00-4764-de96-62549d1be184"
      },
      "source": [
        "encoder_input = keras.Input(shape=(28, 28, 1), name=\"original_img\")\n",
        "x = layers.Conv2D(16, 3, activation=\"relu\")(encoder_input)\n",
        "x = layers.Conv2D(32, 3, activation=\"relu\")(x)\n",
        "x = layers.MaxPooling2D(3)(x)\n",
        "x = layers.Conv2D(32, 3, activation=\"relu\")(x)\n",
        "x = layers.Conv2D(16, 3, activation=\"relu\")(x)\n",
        "encoder_output = layers.GlobalMaxPooling2D()(x)\n",
        "\n",
        "encoder = keras.Model(encoder_input, encoder_output, name=\"encoder\")\n",
        "encoder.summary()\n",
        "\n",
        "x = layers.Reshape((4, 4, 1))(encoder_output)\n",
        "x = layers.Conv2DTranspose(16, 3, activation=\"relu\")(x)\n",
        "x = layers.Conv2DTranspose(32, 3, activation=\"relu\")(x)\n",
        "x = layers.UpSampling2D(3)(x)\n",
        "x = layers.Conv2DTranspose(16, 3, activation=\"relu\")(x)\n",
        "decoder_output = layers.Conv2DTranspose(1, 3, activation=\"relu\")(x)\n",
        "\n",
        "# 합친 것을 autoencoder이라 칭함\n",
        "autoencoder = keras.Model(encoder_input, decoder_output, name=\"autoencoder\")\n",
        "autoencoder.summary()\n"
      ],
      "execution_count": 19,
      "outputs": [
        {
          "output_type": "stream",
          "name": "stdout",
          "text": [
            "Model: \"encoder\"\n",
            "_________________________________________________________________\n",
            "Layer (type)                 Output Shape              Param #   \n",
            "=================================================================\n",
            "original_img (InputLayer)    [(None, 28, 28, 1)]       0         \n",
            "_________________________________________________________________\n",
            "conv2d_4 (Conv2D)            (None, 26, 26, 16)        160       \n",
            "_________________________________________________________________\n",
            "conv2d_5 (Conv2D)            (None, 24, 24, 32)        4640      \n",
            "_________________________________________________________________\n",
            "max_pooling2d_1 (MaxPooling2 (None, 8, 8, 32)          0         \n",
            "_________________________________________________________________\n",
            "conv2d_6 (Conv2D)            (None, 6, 6, 32)          9248      \n",
            "_________________________________________________________________\n",
            "conv2d_7 (Conv2D)            (None, 4, 4, 16)          4624      \n",
            "_________________________________________________________________\n",
            "global_max_pooling2d_1 (Glob (None, 16)                0         \n",
            "=================================================================\n",
            "Total params: 18,672\n",
            "Trainable params: 18,672\n",
            "Non-trainable params: 0\n",
            "_________________________________________________________________\n",
            "Model: \"autoencoder\"\n",
            "_________________________________________________________________\n",
            "Layer (type)                 Output Shape              Param #   \n",
            "=================================================================\n",
            "original_img (InputLayer)    [(None, 28, 28, 1)]       0         \n",
            "_________________________________________________________________\n",
            "conv2d_4 (Conv2D)            (None, 26, 26, 16)        160       \n",
            "_________________________________________________________________\n",
            "conv2d_5 (Conv2D)            (None, 24, 24, 32)        4640      \n",
            "_________________________________________________________________\n",
            "max_pooling2d_1 (MaxPooling2 (None, 8, 8, 32)          0         \n",
            "_________________________________________________________________\n",
            "conv2d_6 (Conv2D)            (None, 6, 6, 32)          9248      \n",
            "_________________________________________________________________\n",
            "conv2d_7 (Conv2D)            (None, 4, 4, 16)          4624      \n",
            "_________________________________________________________________\n",
            "global_max_pooling2d_1 (Glob (None, 16)                0         \n",
            "_________________________________________________________________\n",
            "reshape_1 (Reshape)          (None, 4, 4, 1)           0         \n",
            "_________________________________________________________________\n",
            "conv2d_transpose_4 (Conv2DTr (None, 6, 6, 16)          160       \n",
            "_________________________________________________________________\n",
            "conv2d_transpose_5 (Conv2DTr (None, 8, 8, 32)          4640      \n",
            "_________________________________________________________________\n",
            "up_sampling2d_1 (UpSampling2 (None, 24, 24, 32)        0         \n",
            "_________________________________________________________________\n",
            "conv2d_transpose_6 (Conv2DTr (None, 26, 26, 16)        4624      \n",
            "_________________________________________________________________\n",
            "conv2d_transpose_7 (Conv2DTr (None, 28, 28, 1)         145       \n",
            "=================================================================\n",
            "Total params: 28,241\n",
            "Trainable params: 28,241\n",
            "Non-trainable params: 0\n",
            "_________________________________________________________________\n"
          ]
        }
      ]
    },
    {
      "cell_type": "markdown",
      "metadata": {
        "id": "fO-EWE4P8aF9"
      },
      "source": [
        "decoder도 따로 input을 넣어줌: 2개의 모델을 가질 때 모델들을 결합할 수 있다."
      ]
    },
    {
      "cell_type": "markdown",
      "metadata": {
        "id": "7nGd9Hrd8W0d"
      },
      "source": [
        ""
      ]
    },
    {
      "cell_type": "code",
      "metadata": {
        "id": "EMDKmb_Z8k4X"
      },
      "source": [
        "def get_model():\n",
        "  inputs = keras.Input(shape=(128,))\n",
        "  outputs = layers.Dense(1)(inputs)\n",
        "  return keras.Model(inputs, outputs)\n",
        "\n",
        "  model1 = get_model\n",
        "  model2 = get_model\n",
        "  model3 = get_model\n",
        "\n",
        "  inputs = keras.Input(shape=(128,))\n",
        "  y1 = model(inputs)\n",
        "  y2 = model(inputs)\n",
        "  y3 = model(inputs)\n",
        "  outputs = layers.average([y1,y2,y3])\n",
        "  ensemble_model = keras.Model(inputs=inputs, outputs=outputs)\n",
        "\n",
        "\n",
        "  #output에는 전부다 똑같이 input값의 평균이 들어간다.(병렬적으로 구성 된다)"
      ],
      "execution_count": 23,
      "outputs": []
    },
    {
      "cell_type": "code",
      "metadata": {
        "colab": {
          "base_uri": "https://localhost:8080/"
        },
        "id": "4ZikPnWg-Xmy",
        "outputId": "fed755bf-c933-41af-a76a-aadc6d46a36e"
      },
      "source": [
        "ensemble_model.summary()"
      ],
      "execution_count": 25,
      "outputs": [
        {
          "output_type": "stream",
          "name": "stdout",
          "text": [
            "Model: \"model_3\"\n",
            "__________________________________________________________________________________________________\n",
            "Layer (type)                    Output Shape         Param #     Connected to                     \n",
            "==================================================================================================\n",
            "input_6 (InputLayer)            [(None, 128)]        0                                            \n",
            "__________________________________________________________________________________________________\n",
            "model (Functional)              (None, 1)            129         input_6[0][0]                    \n",
            "__________________________________________________________________________________________________\n",
            "model_1 (Functional)            (None, 1)            129         input_6[0][0]                    \n",
            "__________________________________________________________________________________________________\n",
            "model_2 (Functional)            (None, 1)            129         input_6[0][0]                    \n",
            "__________________________________________________________________________________________________\n",
            "average (Average)               (None, 1)            0           model[0][0]                      \n",
            "                                                                 model_1[0][0]                    \n",
            "                                                                 model_2[0][0]                    \n",
            "==================================================================================================\n",
            "Total params: 387\n",
            "Trainable params: 387\n",
            "Non-trainable params: 0\n",
            "__________________________________________________________________________________________________\n"
          ]
        }
      ]
    },
    {
      "cell_type": "markdown",
      "metadata": {
        "id": "WvQxLPHx9oKJ"
      },
      "source": [
        "Manipulate complex graph topologies"
      ]
    },
    {
      "cell_type": "code",
      "metadata": {
        "colab": {
          "base_uri": "https://localhost:8080/",
          "height": 53
        },
        "id": "tkS4PDb0-mKJ",
        "outputId": "9f188694-5c05-4211-d2b2-93cd93d6dc78"
      },
      "source": [
        "\"\"\"\n",
        "입력\n",
        "- 티켓의 제목\n",
        "- 티켓의 본문 내용\n",
        "- 사용자가 추가한 태그(범주)\n",
        "\n",
        "\n",
        "출력\n",
        "- 0~1 사이의 우선 순위 점수\n",
        "- 티켓을 처리할 부서\n",
        "\n",
        "\n",
        "\"\"\""
      ],
      "execution_count": 28,
      "outputs": [
        {
          "output_type": "execute_result",
          "data": {
            "application/vnd.google.colaboratory.intrinsic+json": {
              "type": "string"
            },
            "text/plain": [
              "'\\n입력\\n- 티켓의 제목\\n- 티켓의 본문 내용\\n- 사용자가 추가한 태그(범주)\\n\\n\\n출력\\n- 0~1 사이의 우선 순위 점수\\n- 티켓을 처리할 부서\\n\\n\\n'"
            ]
          },
          "metadata": {},
          "execution_count": 28
        }
      ]
    },
    {
      "cell_type": "code",
      "metadata": {
        "id": "UYEV2L1m8llk"
      },
      "source": [
        "num_tags = 12\n",
        "num_words = 10000 # (전처리된 단어의 개수 10000 라 가졍)\n",
        "num_departments = 4  #부서의 개수:4개\n",
        "\n",
        "title_input = keras.Input(\n",
        "    shape=(None,), name=\"title\"\n",
        ")  \n",
        "body_input = keras.Input(shape=(None,), name=\"body\") \n",
        "tags_input = keras.Input(\n",
        "    shape=(num_tags,), name=\"tags\")\n",
        "\n",
        "#단어 이기 때문에 embedding\n",
        "\n",
        "title_features = layers.Embedding(num_words, 64)(title_input)\n",
        "body_features = layers.Embedding(num_words, 64)(body_input)\n",
        "\n",
        "title_features = layers.LSTM(128)(title_features)\n",
        "body_features = layers.LSTM(32)(body_features)\n",
        "\n",
        "#합쳐주기\n",
        "x = layers.concatenate([title_features, body_features, tags_input])\n",
        "\n",
        "priority_pred = layers.Dense(1, name=\"priority\")(x)\n",
        "department_pred = layers.Dense(num_departments, name=\"department\")(x)\n",
        "\n",
        "model = keras.Model(\n",
        "    inputs=[title_input, body_input, tags_input],\n",
        "    outputs=[priority_pred, department_pred],\n",
        ")\n",
        "#대괄호를 열어 input값을 모두 넣어주기\n",
        "#부서가 4개 이므로 softmax 함수\n"
      ],
      "execution_count": 34,
      "outputs": []
    },
    {
      "cell_type": "markdown",
      "metadata": {
        "id": "4eLc2ZcMAdhT"
      },
      "source": [
        "Now plot the model:\n",
        "\n"
      ]
    },
    {
      "cell_type": "code",
      "metadata": {
        "colab": {
          "base_uri": "https://localhost:8080/",
          "height": 275
        },
        "id": "e2OWoMHh_cgI",
        "outputId": "7ea66b53-8ce5-43d4-ea34-8513dee89716"
      },
      "source": [
        "keras.utils.plot_model(model, \"multi_input_and_output_model.png\", show_shapes=True)"
      ],
      "execution_count": 35,
      "outputs": [
        {
          "output_type": "execute_result",
          "data": {
            "image/png": "[encoded data removed]",
            "text/plain": [
              "<IPython.core.display.Image object>"
            ]
          },
          "metadata": {},
          "execution_count": 35
        }
      ]
    },
    {
      "cell_type": "code",
      "metadata": {
        "id": "q87BMubXAqDc"
      },
      "source": [
        "model.compile(\n",
        "    optimizer= keras.optimizers.RMSprop(1e-3),\n",
        "    loss=[\n",
        "          keras.losses.BinaryCrossentropy(from_logits=True),\n",
        "          keras.losses.CategoricalCrossentropy(from_logits=True), \n",
        "    ],\n",
        "    loss_weights=[1.0, 0.2],\n",
        ")\n",
        "\n",
        "#두개의 로스가 있으니 가중치 설정하기"
      ],
      "execution_count": 38,
      "outputs": []
    },
    {
      "cell_type": "code",
      "metadata": {
        "id": "sy_FRC37BEf0"
      },
      "source": [
        "model.compile(\n",
        "    optimizer=keras.optimizers.RMSprop(1e-3),\n",
        "    loss={\n",
        "        \"priority\": keras.losses.BinaryCrossentropy(from_logits=True),\n",
        "        \"department\": keras.losses.CategoricalCrossentropy(from_logits=True),\n",
        "    },\n",
        "    loss_weights=[1.0, 0.2],\n",
        ")"
      ],
      "execution_count": 42,
      "outputs": []
    },
    {
      "cell_type": "markdown",
      "metadata": {
        "id": "BEAANiwJB7O4"
      },
      "source": [
        "가상의 값을 넣어 학습시키기(랜덤)"
      ]
    },
    {
      "cell_type": "code",
      "metadata": {
        "id": "PDp4G_cGBgnH"
      },
      "source": [
        "title_data = np.random.randint(num_words,size=(1280,10))\n",
        "body_data = np.random.randint(num_words,size=(1280,100))\n",
        "tags_data = np.random.randint(2, size=(1280, num_tags)).astype(\"float32\")\n"
      ],
      "execution_count": 45,
      "outputs": []
    },
    {
      "cell_type": "code",
      "metadata": {
        "colab": {
          "base_uri": "https://localhost:8080/"
        },
        "id": "1rk-qGncCIf_",
        "outputId": "97456298-58fb-4af5-89e0-b3b493df5519"
      },
      "source": [
        "np.random.randint(num_words,size=(1280,10))"
      ],
      "execution_count": 44,
      "outputs": [
        {
          "output_type": "execute_result",
          "data": {
            "text/plain": [
              "array([[6873, 4318, 6379, ..., 9009, 9299, 5970],\n",
              "       [3226, 2618, 3700, ..., 1705,  468, 3125],\n",
              "       [9631, 7601,  622, ..., 3600, 6818,  389],\n",
              "       ...,\n",
              "       [7562, 3492, 1043, ..., 5883, 4607, 6361],\n",
              "       [6275, 6984, 4393, ...,  377, 4899, 4018],\n",
              "       [2405, 6846, 5009, ..., 4149, 4933, 9670]])"
            ]
          },
          "metadata": {},
          "execution_count": 44
        }
      ]
    },
    {
      "cell_type": "code",
      "metadata": {
        "colab": {
          "base_uri": "https://localhost:8080/"
        },
        "id": "b_YZThTcBxYA",
        "outputId": "a6c954ce-0553-469d-9145-04142aad419d"
      },
      "source": [
        "np.random.randint(num_words,size=(1280,100))# 본문이니 내용이 더 많아 100으로 설정"
      ],
      "execution_count": 47,
      "outputs": [
        {
          "output_type": "execute_result",
          "data": {
            "text/plain": [
              "array([[8771, 1655, 2076, ..., 2733, 7937, 5657],\n",
              "       [7522, 5819,  832, ..., 5950, 6646, 3505],\n",
              "       [9562,  791, 7811, ..., 6274, 5669, 2139],\n",
              "       ...,\n",
              "       [2142, 6263, 1340, ..., 6698, 4316, 4112],\n",
              "       [4978,  882, 8757, ..., 2553, 5682,   80],\n",
              "       [7133, 9720, 6295, ..., 2164, 3954,  435]])"
            ]
          },
          "metadata": {},
          "execution_count": 47
        }
      ]
    },
    {
      "cell_type": "code",
      "metadata": {
        "colab": {
          "base_uri": "https://localhost:8080/"
        },
        "id": "ScSWwg3yCRI0",
        "outputId": "439ceeb6-3d35-4176-fc74-31889026c2b8"
      },
      "source": [
        "np.random.randint(2, size=(1280, num_tags)).astype(\"float32\")# 1280개에서 tag를 가지면 1, 없으면 0"
      ],
      "execution_count": 49,
      "outputs": [
        {
          "output_type": "execute_result",
          "data": {
            "text/plain": [
              "array([[0., 0., 0., ..., 0., 0., 1.],\n",
              "       [0., 0., 1., ..., 1., 0., 0.],\n",
              "       [1., 0., 0., ..., 0., 1., 0.],\n",
              "       ...,\n",
              "       [0., 0., 0., ..., 1., 1., 1.],\n",
              "       [0., 1., 1., ..., 1., 1., 1.],\n",
              "       [0., 0., 0., ..., 1., 1., 0.]], dtype=float32)"
            ]
          },
          "metadata": {},
          "execution_count": 49
        }
      ]
    },
    {
      "cell_type": "code",
      "metadata": {
        "colab": {
          "base_uri": "https://localhost:8080/"
        },
        "id": "wlmggXoDCWr7",
        "outputId": "3303c73f-1fcf-466e-ab26-a6834410f44f"
      },
      "source": [
        "priority_targets = np.random.random(size=(1280, 1)) #우선순위는 하나의 값이니 1로 설정\n",
        "dept_targets = np.random.randint(2, size=(1280, num_departments))\n",
        "\n",
        "model.fit(\n",
        "    {\"title\": title_data, \"body\": body_data, \"tags\": tags_data},\n",
        "    {\"priority\": priority_targets, \"department\": dept_targets},\n",
        "    epochs=2,\n",
        "    batch_size=32,\n",
        ")"
      ],
      "execution_count": 51,
      "outputs": [
        {
          "output_type": "stream",
          "name": "stdout",
          "text": [
            "Epoch 1/2\n",
            "40/40 [==============================] - 1s 34ms/step - loss: 1.3118 - priority_loss: 0.6996 - department_loss: 3.0611\n",
            "Epoch 2/2\n",
            "40/40 [==============================] - 1s 31ms/step - loss: 1.2925 - priority_loss: 0.6976 - department_loss: 2.9742\n"
          ]
        },
        {
          "output_type": "execute_result",
          "data": {
            "text/plain": [
              "<keras.callbacks.History at 0x7f6d33a30350>"
            ]
          },
          "metadata": {},
          "execution_count": 51
        }
      ]
    },
    {
      "cell_type": "code",
      "metadata": {
        "colab": {
          "base_uri": "https://localhost:8080/"
        },
        "id": "tyHJHhZ6CpMn",
        "outputId": "e6a2c5d5-df1c-40a5-bda0-9cbe2ca0f331"
      },
      "source": [
        "inputs = keras.Input(shape=(32, 32, 3), name=\"img\")\n",
        "x = layers.Conv2D(32, 3, activation=\"relu\")(inputs)\n",
        "x = layers.Conv2D(64, 3, activation=\"relu\")(x)\n",
        "block_1_output = layers.MaxPooling2D(3)(x)\n",
        "\n",
        "#Residual connection\n",
        "x = layers.Conv2D(64, 3, activation=\"relu\", padding=\"same\")(block_1_output)\n",
        "x = layers.Conv2D(64, 3, activation=\"relu\", padding=\"same\")(x)\n",
        "block_2_output = layers.add([x, block_1_output])\n",
        "\n",
        "x = layers.Conv2D(64, 3, activation=\"relu\", padding=\"same\")(block_2_output)\n",
        "x = layers.Conv2D(64, 3, activation=\"relu\", padding=\"same\")(x)\n",
        "block_3_output = layers.add([x, block_2_output])\n",
        "\n",
        "x = layers.Conv2D(64, 3, activation=\"relu\")(block_3_output)\n",
        "x = layers.GlobalAveragePooling2D()(x)\n",
        "x = layers.Dense(256, activation=\"relu\")(x)\n",
        "x = layers.Dropout(0.5)(x)\n",
        "outputs = layers.Dense(10)(x)\n",
        "\n",
        "model = keras.Model(inputs, outputs, name=\"toy_resnet\")\n",
        "model.summary()\n",
        "\n",
        "#* padding = 'valid' - 패딩 적용 안함- input 차원 보다 output 차원이 더 작음\n",
        "#* padding = 'same'- 패딩 적용 - 따라서 커널을 적용해도 input 차원과 동일한 output 차원\n"
      ],
      "execution_count": 52,
      "outputs": [
        {
          "output_type": "stream",
          "name": "stdout",
          "text": [
            "Model: \"toy_resnet\"\n",
            "__________________________________________________________________________________________________\n",
            "Layer (type)                    Output Shape         Param #     Connected to                     \n",
            "==================================================================================================\n",
            "img (InputLayer)                [(None, 32, 32, 3)]  0                                            \n",
            "__________________________________________________________________________________________________\n",
            "conv2d_8 (Conv2D)               (None, 30, 30, 32)   896         img[0][0]                        \n",
            "__________________________________________________________________________________________________\n",
            "conv2d_9 (Conv2D)               (None, 28, 28, 64)   18496       conv2d_8[0][0]                   \n",
            "__________________________________________________________________________________________________\n",
            "max_pooling2d_2 (MaxPooling2D)  (None, 9, 9, 64)     0           conv2d_9[0][0]                   \n",
            "__________________________________________________________________________________________________\n",
            "conv2d_10 (Conv2D)              (None, 9, 9, 64)     36928       max_pooling2d_2[0][0]            \n",
            "__________________________________________________________________________________________________\n",
            "conv2d_11 (Conv2D)              (None, 9, 9, 64)     36928       conv2d_10[0][0]                  \n",
            "__________________________________________________________________________________________________\n",
            "add (Add)                       (None, 9, 9, 64)     0           conv2d_11[0][0]                  \n",
            "                                                                 max_pooling2d_2[0][0]            \n",
            "__________________________________________________________________________________________________\n",
            "conv2d_12 (Conv2D)              (None, 9, 9, 64)     36928       add[0][0]                        \n",
            "__________________________________________________________________________________________________\n",
            "conv2d_13 (Conv2D)              (None, 9, 9, 64)     36928       conv2d_12[0][0]                  \n",
            "__________________________________________________________________________________________________\n",
            "add_1 (Add)                     (None, 9, 9, 64)     0           conv2d_13[0][0]                  \n",
            "                                                                 add[0][0]                        \n",
            "__________________________________________________________________________________________________\n",
            "conv2d_14 (Conv2D)              (None, 7, 7, 64)     36928       add_1[0][0]                      \n",
            "__________________________________________________________________________________________________\n",
            "global_average_pooling2d (Globa (None, 64)           0           conv2d_14[0][0]                  \n",
            "__________________________________________________________________________________________________\n",
            "dense_6 (Dense)                 (None, 256)          16640       global_average_pooling2d[0][0]   \n",
            "__________________________________________________________________________________________________\n",
            "dropout (Dropout)               (None, 256)          0           dense_6[0][0]                    \n",
            "__________________________________________________________________________________________________\n",
            "dense_7 (Dense)                 (None, 10)           2570        dropout[0][0]                    \n",
            "==================================================================================================\n",
            "Total params: 223,242\n",
            "Trainable params: 223,242\n",
            "Non-trainable params: 0\n",
            "__________________________________________________________________________________________________\n"
          ]
        }
      ]
    },
    {
      "cell_type": "code",
      "metadata": {
        "colab": {
          "base_uri": "https://localhost:8080/",
          "height": 1000
        },
        "id": "S33seuvgCqjv",
        "outputId": "32859be2-5370-4b5d-8bc7-ba90c3c72244"
      },
      "source": [
        "keras.utils.plot_model(model, \"mini_resnet.png\", show_shapes=True)\n",
        "#output이 다음으로 넘어온다."
      ],
      "execution_count": 53,
      "outputs": [
        {
          "output_type": "execute_result",
          "data": {
            "image/png": "[encoded data removed]",
            "text/plain": [
              "<IPython.core.display.Image object>"
            ]
          },
          "metadata": {},
          "execution_count": 53
        }
      ]
    },
    {
      "cell_type": "code",
      "metadata": {
        "colab": {
          "base_uri": "https://localhost:8080/"
        },
        "id": "B1zx-matCsL4",
        "outputId": "31ba7775-2fc4-4158-af31-75fe5f7ab22f"
      },
      "source": [
        "(x_train, y_train), (x_test, y_test) = keras.datasets.cifar10.load_data()\n",
        "\n",
        "x_train = x_train.astype(\"float32\") / 255.0\n",
        "x_test = x_test.astype(\"float32\") / 255.0\n",
        "y_train = keras.utils.to_categorical(y_train, 10)\n",
        "y_test = keras.utils.to_categorical(y_test, 10)\n",
        "\n",
        "model.compile(\n",
        "    optimizer=keras.optimizers.RMSprop(1e-3),\n",
        "    loss=keras.losses.CategoricalCrossentropy(from_logits=True),\n",
        "    metrics=[\"acc\"],\n",
        ")\n",
        "!\n",
        "model.fit(x_train[:1000], y_train[:1000], batch_size=64, epochs=1, validation_split=0.2)\n",
        "\n",
        "# 텐서플로우에서는 softmax 함수를 거치지 않고, from_logits = True를 사용하는게 numerical stable하다고 설명하"
      ],
      "execution_count": 56,
      "outputs": [
        {
          "output_type": "stream",
          "name": "stdout",
          "text": [
            "13/13 [==============================] - 2s 48ms/step - loss: 2.3894 - acc: 0.1225 - val_loss: 2.2713 - val_acc: 0.1600\n"
          ]
        },
        {
          "output_type": "execute_result",
          "data": {
            "text/plain": [
              "<keras.callbacks.History at 0x7f6d3202b650>"
            ]
          },
          "metadata": {},
          "execution_count": 56
        }
      ]
    },
    {
      "cell_type": "markdown",
      "metadata": {
        "id": "bCG9Gu8zCyVD"
      },
      "source": [
        "Shared layers"
      ]
    },
    {
      "cell_type": "code",
      "metadata": {
        "id": "sbB1KJY9CuI3"
      },
      "source": [
        "#128차원의 1000단어 매핑하는 레이어\n",
        "shared_embedding = layers.Embedding(1000, 128)\n",
        "#1번째 input\n",
        "text_input_a = keras.Input(shape=(None,), dtype=\"int32\")\n",
        "#2번째 input\n",
        "text_input_b = keras.Input(shape=(None,), dtype=\"int32\")\n",
        "\n",
        "#각각 input에 대해서 layer를 두번 호출\n",
        "encoded_input_a = shared_embedding(text_input_a)\n",
        "encoded_input_b = shared_embedding(text_input_b)"
      ],
      "execution_count": 57,
      "outputs": []
    },
    {
      "cell_type": "markdown",
      "metadata": {
        "id": "4O1LiojjLJNB"
      },
      "source": [
        "Extract and reuse nodes in the graph of layers(추출)"
      ]
    },
    {
      "cell_type": "code",
      "metadata": {
        "colab": {
          "base_uri": "https://localhost:8080/"
        },
        "id": "L4zVr869C0qM",
        "outputId": "55a7c7a7-4faf-44dd-f3c2-14170ef77cd2"
      },
      "source": [
        "vgg19 = tf.keras.applications.VGG19()\n",
        "#vgg19 layer에서 layer들의 output을 feature_list에 저장"
      ],
      "execution_count": 58,
      "outputs": [
        {
          "output_type": "stream",
          "name": "stdout",
          "text": [
            "Downloading data from https://storage.googleapis.com/tensorflow/keras-applications/vgg19/vgg19_weights_tf_dim_ordering_tf_kernels.h5\n",
            "574717952/574710816 [==============================] - 6s 0us/step\n",
            "574726144/574710816 [==============================] - 6s 0us/step\n"
          ]
        }
      ]
    },
    {
      "cell_type": "code",
      "metadata": {
        "colab": {
          "base_uri": "https://localhost:8080/"
        },
        "id": "IG0L-EEyLR_y",
        "outputId": "f6131fbc-bc51-44af-92ca-071e4d8e7b14"
      },
      "source": [
        "features_list = [layer.output for layer in vgg19.layers]\n",
        "features_list"
      ],
      "execution_count": 60,
      "outputs": [
        {
          "output_type": "execute_result",
          "data": {
            "text/plain": [
              "[<KerasTensor: shape=(None, 224, 224, 3) dtype=float32 (created by layer 'input_11')>,\n",
              " <KerasTensor: shape=(None, 224, 224, 64) dtype=float32 (created by layer 'block1_conv1')>,\n",
              " <KerasTensor: shape=(None, 224, 224, 64) dtype=float32 (created by layer 'block1_conv2')>,\n",
              " <KerasTensor: shape=(None, 112, 112, 64) dtype=float32 (created by layer 'block1_pool')>,\n",
              " <KerasTensor: shape=(None, 112, 112, 128) dtype=float32 (created by layer 'block2_conv1')>,\n",
              " <KerasTensor: shape=(None, 112, 112, 128) dtype=float32 (created by layer 'block2_conv2')>,\n",
              " <KerasTensor: shape=(None, 56, 56, 128) dtype=float32 (created by layer 'block2_pool')>,\n",
              " <KerasTensor: shape=(None, 56, 56, 256) dtype=float32 (created by layer 'block3_conv1')>,\n",
              " <KerasTensor: shape=(None, 56, 56, 256) dtype=float32 (created by layer 'block3_conv2')>,\n",
              " <KerasTensor: shape=(None, 56, 56, 256) dtype=float32 (created by layer 'block3_conv3')>,\n",
              " <KerasTensor: shape=(None, 56, 56, 256) dtype=float32 (created by layer 'block3_conv4')>,\n",
              " <KerasTensor: shape=(None, 28, 28, 256) dtype=float32 (created by layer 'block3_pool')>,\n",
              " <KerasTensor: shape=(None, 28, 28, 512) dtype=float32 (created by layer 'block4_conv1')>,\n",
              " <KerasTensor: shape=(None, 28, 28, 512) dtype=float32 (created by layer 'block4_conv2')>,\n",
              " <KerasTensor: shape=(None, 28, 28, 512) dtype=float32 (created by layer 'block4_conv3')>,\n",
              " <KerasTensor: shape=(None, 28, 28, 512) dtype=float32 (created by layer 'block4_conv4')>,\n",
              " <KerasTensor: shape=(None, 14, 14, 512) dtype=float32 (created by layer 'block4_pool')>,\n",
              " <KerasTensor: shape=(None, 14, 14, 512) dtype=float32 (created by layer 'block5_conv1')>,\n",
              " <KerasTensor: shape=(None, 14, 14, 512) dtype=float32 (created by layer 'block5_conv2')>,\n",
              " <KerasTensor: shape=(None, 14, 14, 512) dtype=float32 (created by layer 'block5_conv3')>,\n",
              " <KerasTensor: shape=(None, 14, 14, 512) dtype=float32 (created by layer 'block5_conv4')>,\n",
              " <KerasTensor: shape=(None, 7, 7, 512) dtype=float32 (created by layer 'block5_pool')>,\n",
              " <KerasTensor: shape=(None, 25088) dtype=float32 (created by layer 'flatten')>,\n",
              " <KerasTensor: shape=(None, 4096) dtype=float32 (created by layer 'fc1')>,\n",
              " <KerasTensor: shape=(None, 4096) dtype=float32 (created by layer 'fc2')>,\n",
              " <KerasTensor: shape=(None, 1000) dtype=float32 (created by layer 'predictions')>]"
            ]
          },
          "metadata": {},
          "execution_count": 60
        }
      ]
    },
    {
      "cell_type": "code",
      "metadata": {
        "colab": {
          "base_uri": "https://localhost:8080/"
        },
        "id": "lkDLlGIjLcPE",
        "outputId": "01dc1103-dbeb-4cf0-eff8-d3df2caa6f16"
      },
      "source": [
        "feat_extraction_model = keras.Model(inputs=vgg19.input, outputs=features_list)\n",
        "img=np.random.random((1,224,224,3)).astype(\"float32\")\n",
        "extracted_features = feat_extraction_model(img)\n",
        "\n",
        "extracted_features[0] \n",
        "# 생성한 모델에 img를 넣어주기\n",
        "# 어떤지  보기"
      ],
      "execution_count": 66,
      "outputs": [
        {
          "output_type": "execute_result",
          "data": {
            "text/plain": [
              "<tf.Tensor: shape=(1, 224, 224, 3), dtype=float32, numpy=\n",
              "array([[[[0.4078076 , 0.10898189, 0.87937325],\n",
              "         [0.96939677, 0.33287227, 0.92747176],\n",
              "         [0.66920185, 0.61615497, 0.43683618],\n",
              "         ...,\n",
              "         [0.7807983 , 0.6353126 , 0.06514651],\n",
              "         [0.8102169 , 0.4727292 , 0.02946447],\n",
              "         [0.51494956, 0.30669504, 0.7677436 ]],\n",
              "\n",
              "        [[0.8087183 , 0.78721833, 0.50880235],\n",
              "         [0.35227615, 0.05635314, 0.0783497 ],\n",
              "         [0.05132271, 0.5789873 , 0.01175316],\n",
              "         ...,\n",
              "         [0.00100666, 0.88666356, 0.5337742 ],\n",
              "         [0.52536786, 0.07207043, 0.26808372],\n",
              "         [0.48051926, 0.15728244, 0.37743655]],\n",
              "\n",
              "        [[0.5685919 , 0.24821131, 0.7449654 ],\n",
              "         [0.86638457, 0.4973586 , 0.31565028],\n",
              "         [0.38098112, 0.59008425, 0.288048  ],\n",
              "         ...,\n",
              "         [0.2732563 , 0.66802967, 0.9493058 ],\n",
              "         [0.4806563 , 0.62082565, 0.46514502],\n",
              "         [0.5564707 , 0.9270539 , 0.42542306]],\n",
              "\n",
              "        ...,\n",
              "\n",
              "        [[0.5464672 , 0.80810195, 0.7137582 ],\n",
              "         [0.23107794, 0.68079966, 0.02664831],\n",
              "         [0.70314676, 0.61360246, 0.13455872],\n",
              "         ...,\n",
              "         [0.44047797, 0.12567729, 0.7546359 ],\n",
              "         [0.81625044, 0.5284228 , 0.82863367],\n",
              "         [0.3696116 , 0.65457743, 0.75979435]],\n",
              "\n",
              "        [[0.48082915, 0.90958804, 0.64605606],\n",
              "         [0.27151078, 0.6386669 , 0.36554214],\n",
              "         [0.52174544, 0.7921643 , 0.8711054 ],\n",
              "         ...,\n",
              "         [0.6147768 , 0.9910587 , 0.3093349 ],\n",
              "         [0.07991395, 0.03888701, 0.24769576],\n",
              "         [0.41211015, 0.17401041, 0.21043554]],\n",
              "\n",
              "        [[0.0192721 , 0.39300013, 0.8316995 ],\n",
              "         [0.81949574, 0.6191573 , 0.45118037],\n",
              "         [0.77851605, 0.25770608, 0.1155438 ],\n",
              "         ...,\n",
              "         [0.46163493, 0.86682755, 0.68443847],\n",
              "         [0.8700414 , 0.08797265, 0.76474816],\n",
              "         [0.09572055, 0.99854106, 0.755027  ]]]], dtype=float32)>"
            ]
          },
          "metadata": {},
          "execution_count": 66
        }
      ]
    },
    {
      "cell_type": "markdown",
      "metadata": {
        "id": "MTHr1wkAMakv"
      },
      "source": [
        "Extend the API using custom layers:\n",
        "customizing layer 하기\n"
      ]
    },
    {
      "cell_type": "code",
      "metadata": {
        "id": "FrSzYVzZMaQw"
      },
      "source": [
        "class CustomDense(layers.Layer):\n",
        "    def __init__(self, units=32):\n",
        "        super(CustomDense, self).__init__()\n",
        "        self.units = units\n",
        "\n",
        "    def build(self, input_shape):\n",
        "        self.w = self.add_weight(\n",
        "            shape=(input_shape[-1], self.units),\n",
        "            initializer=\"random_normal\",\n",
        "            trainable=True,\n",
        "        )\n",
        "        self.b = self.add_weight(\n",
        "            shape=(self.units,), initializer=\"random_normal\", trainable=True\n",
        "        )\n",
        "\n",
        "    def call(self, inputs):\n",
        "        return tf.matmul(inputs, self.w) + self.b\n",
        "\n",
        "\n",
        "inputs = keras.Input((4,))\n",
        "outputs = CustomDense(10)(inputs)\n",
        "\n",
        "model = keras.Model(inputs, outputs)"
      ],
      "execution_count": 67,
      "outputs": []
    },
    {
      "cell_type": "code",
      "metadata": {
        "id": "efhbWsuQL7Yi"
      },
      "source": [
        "class CustomDense(layers.Layer):\n",
        "    def __init__(self, units=32):\n",
        "        super(CustomDense, self).__init__()\n",
        "        self.units = units\n",
        "\n",
        "    def build(self, input_shape):\n",
        "        self.w = self.add_weight(\n",
        "            shape=(input_shape[-1], self.units),\n",
        "            initializer=\"random_normal\",\n",
        "            trainable=True,\n",
        "        )\n",
        "        self.b = self.add_weight(\n",
        "            shape=(self.units,), initializer=\"random_normal\", trainable=True\n",
        "        )\n",
        "\n",
        "    def call(self, inputs):\n",
        "        return tf.matmul(inputs, self.w) + self.b\n",
        "\n",
        "    def get_config(self):   #추가\n",
        "        return {\"units\": self.units}\n",
        "\n",
        "\n",
        "inputs = keras.Input((4,))\n",
        "outputs = CustomDense(10)(inputs)\n",
        "\n",
        "model = keras.Model(inputs, outputs)\n",
        "config = model.get_config()\n",
        "\n",
        "new_model = keras.Model.from_config(config, custom_objects={\"CustomDense\": CustomDense})"
      ],
      "execution_count": 68,
      "outputs": []
    },
    {
      "cell_type": "code",
      "metadata": {
        "id": "EGcUvbFPPYNg"
      },
      "source": [
        "def from_config(cls, config):\n",
        "  return cls(**config)"
      ],
      "execution_count": 69,
      "outputs": []
    },
    {
      "cell_type": "markdown",
      "metadata": {
        "id": "rAGEvBthRbW-"
      },
      "source": [
        "\n",
        "1 간결하다\n",
        "2) 그래프를 구성하면서 모델 검증이 이루어진다\n",
        "3) 그래프로 그릴 수 있고, 조사할 수 있다.(inspectable)"
      ]
    },
    {
      "cell_type": "markdown",
      "metadata": {
        "id": "hMo9Tuq9R0Sw"
      },
      "source": [
        "- 간결하다(subclassing)"
      ]
    },
    {
      "cell_type": "code",
      "metadata": {
        "id": "o-R8qpWMPij0"
      },
      "source": [
        "inputs = keras.Input(shape=(32,))\n",
        "x = layers.Dense(64, activation='relu')(inputs)\n",
        "outputs = layers.Dense(10)(x)\n",
        "mlp = keras.Model(inputs, outputs)"
      ],
      "execution_count": 70,
      "outputs": []
    },
    {
      "cell_type": "code",
      "metadata": {
        "id": "rMlrezvjRwuH"
      },
      "source": [
        "class MLP(keras.Model):\n",
        "\n",
        "  def __init__(self, **kwargs):\n",
        "    super(MLP, self).__init__(**kwargs)\n",
        "    self.dense_1 = layers.Dense(64, activation='relu')\n",
        "    self.dense_2 = layers.Dense(10)\n",
        "\n",
        "  def call(self, inputs):\n",
        "    x = self.dense_1(inputs)\n",
        "    return self.dense_2(x)\n",
        "\n",
        "#클래스이니 인스턴스 생성하기.\n",
        "mlp = MLP()\n",
        "# 모델을 부르기 위해서 미리 불러주기\n",
        "_ = mlp(tf.zeros((1, 32)))"
      ],
      "execution_count": 71,
      "outputs": []
    },
    {
      "cell_type": "markdown",
      "metadata": {
        "id": "RsOEQa2DTR3O"
      },
      "source": [
        "- 미리 검증이 가능하다\n",
        "\n",
        "단점: tree RNN, recursive network에서 사용할 수 없다"
      ]
    },
    {
      "cell_type": "code",
      "metadata": {
        "id": "415QmoD0SMAh"
      },
      "source": [
        "features_list = [layer.output for layer in vgg19.layers]\n",
        "feat_extraction_model = keras.Model(inputs=vgg19.input, outputs=features_list)"
      ],
      "execution_count": 72,
      "outputs": []
    },
    {
      "cell_type": "code",
      "metadata": {
        "colab": {
          "base_uri": "https://localhost:8080/"
        },
        "id": "b9EbLVkvTaDZ",
        "outputId": "f8e38228-acac-4187-b311-234116df2df0"
      },
      "source": [
        "units = 32\n",
        "timesteps = 10\n",
        "input_dim = 5\n",
        "\n",
        "# 모델 생성\n",
        "inputs = keras.Input((None, units))\n",
        "x = layers.GlobalAveragePooling1D()(inputs)\n",
        "outputs = layers.Dense(1)(x)\n",
        "model = keras.Model(inputs, outputs)\n",
        "\n",
        "#RNN layer 만들기\n",
        "class CustomRNN(layers.Layer):\n",
        "    def __init__(self):  #init 으로 layer을 정리\n",
        "        super(CustomRNN, self).__init__()\n",
        "        self.units = units\n",
        "        self.projection_1 = layers.Dense(units=units, activation=\"tanh\")\n",
        "        self.projection_2 = layers.Dense(units=units, activation=\"tanh\")\n",
        "        # projection(투사):NLP에서 사용\n",
        "        self.classifier = model\n",
        "\n",
        "    def call(self, inputs): #어떻게 실행할 지 정의하기\n",
        "        outputs = []\n",
        "        state = tf.zeros(shape=(inputs.shape[0], self.units)) #0으로 이뤄진 tensor\n",
        "        for t in range(inputs.shape[1]):\n",
        "            x = inputs[:, t, :]\n",
        "            h = self.projection_1(x)\n",
        "            y = h + self.projection_2(state)\n",
        "            state = y\n",
        "            outputs.append(y)\n",
        "        features = tf.stack(outputs, axis=1)\n",
        "        print(features.shape)\n",
        "        return self.classifier(features)\n",
        "\n",
        "\n",
        "rnn_model = CustomRNN()\n",
        "_ = rnn_model(tf.zeros((1, timesteps, input_dim)))"
      ],
      "execution_count": 73,
      "outputs": [
        {
          "output_type": "stream",
          "name": "stdout",
          "text": [
            "(1, 10, 32)\n"
          ]
        }
      ]
    },
    {
      "cell_type": "code",
      "metadata": {
        "id": "5ZSrCpOsT-02"
      },
      "source": [
        "units = 32\n",
        "timesteps = 10\n",
        "input_dim = 5\n",
        "batch_size = 16\n",
        "\n",
        "\n",
        "class CustomRNN(layers.Layer):\n",
        "    def __init__(self):\n",
        "        super(CustomRNN, self).__init__()\n",
        "        self.units = units\n",
        "        self.projection_1 = layers.Dense(units=units, activation=\"tanh\")\n",
        "        self.projection_2 = layers.Dense(units=units, activation=\"tanh\")\n",
        "        self.classifier = layers.Dense(1)\n",
        "\n",
        "    def call(self, inputs):\n",
        "        outputs = []\n",
        "        state = tf.zeros(shape=(inputs.shape[0], self.units))\n",
        "        for t in range(inputs.shape[1]):\n",
        "            x = inputs[:, t, :]\n",
        "            h = self.projection_1(x)\n",
        "            y = h + self.projection_2(state)\n",
        "            state = y\n",
        "            outputs.append(y)\n",
        "        features = tf.stack(outputs, axis=1)\n",
        "        return self.classifier(features)\n",
        "\n",
        "\n",
        "# Note that you specify a static batch size for the inputs with the `batch_shape`\n",
        "# arg, because the inner computation of `CustomRNN` requires a static batch size\n",
        "# (when you create the `state` zeros tensor).\n",
        "inputs = keras.Input(batch_shape=(batch_size, timesteps, input_dim))\n",
        "x = layers.Conv1D(32, 3)(inputs)\n",
        "outputs = CustomRNN()(x)\n",
        "\n",
        "model = keras.Model(inputs, outputs)\n",
        "\n",
        "rnn_model = CustomRNN()\n",
        "_ = rnn_model(tf.zeros((1, 10, 5)))"
      ],
      "execution_count": 74,
      "outputs": []
    },
    {
      "cell_type": "code",
      "metadata": {
        "id": "Vim_N-fQUBop"
      },
      "source": [
        ""
      ],
      "execution_count": null,
      "outputs": []
    }
  ]
}