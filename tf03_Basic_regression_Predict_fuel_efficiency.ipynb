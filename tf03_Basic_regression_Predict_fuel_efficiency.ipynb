{
  "nbformat": 4,
  "nbformat_minor": 0,
  "metadata": {
    "colab": {
      "name": "tf03_Basic regression: Predict fuel efficiency",
      "provenance": [],
      "collapsed_sections": []
    },
    "kernelspec": {
      "name": "python3",
      "display_name": "Python 3"
    },
    "language_info": {
      "name": "python"
    }
  },
  "cells": [
    {
      "cell_type": "markdown",
      "metadata": {
        "id": "JehbGvPwczIs"
      },
      "source": [
        "https://www.tensorflow.org/tutorials/keras/regression"
      ]
    },
    {
      "cell_type": "markdown",
      "metadata": {
        "id": "dhhJExZvdMQ0"
      },
      "source": [
        "- why? 가격이나 확률같이 연속되는 출력 값을 예측하는 것이 목적\n",
        "- what? Auto MPG 데이터셋을 사용하여 1970년 후반~1980년대 초반 자동차 연비 예측\n",
        "- 실린더의 개수, 이동거리, 마력, 가속력, 출시년도, 출시 국가 등의 feature\n",
        "- MPG(miles per gallon)가 예측값 (label)\n",
        "\n",
        "\n",
        "출처: https://gmnam.tistory.com/183 [Voyager]"
      ]
    },
    {
      "cell_type": "code",
      "metadata": {
        "id": "n31sXo5HdSWb"
      },
      "source": [
        "#필요한 라이브러리 import 하기\n",
        "#산점도를 그리기 위해서 seaborn패키지 설치"
      ],
      "execution_count": 1,
      "outputs": []
    },
    {
      "cell_type": "code",
      "metadata": {
        "id": "dbbSPO5kac7a"
      },
      "source": [
        "import matplotlib.pyplot as plt # 자료 시각화하는 차트그리기\n",
        "import numpy as np #연산\n",
        "import pandas as pd #행과 열로 데이터 객체를 다룸, Pandas는 구조적 데이터를 로드하고 처리하는 데 유용한 여러 유틸리티가 포함된 Python 라이브러리입니다.\n",
        "import seaborn as sns"
      ],
      "execution_count": 2,
      "outputs": []
    },
    {
      "cell_type": "code",
      "metadata": {
        "id": "t2Gx5ObfcBAX"
      },
      "source": [
        "np.set_printoptions(precision=3, suppress=True)\n",
        "#pricision(출력값)은 소수점 3째자리, 매서드에서 suppress를 true로 할 경우 실수로 보여준다. false로 할 경우 1e3일 때 과학적 표기법\n",
        "#기본은 false로설정 되어있음"
      ],
      "execution_count": 3,
      "outputs": []
    },
    {
      "cell_type": "code",
      "metadata": {
        "colab": {
          "base_uri": "https://localhost:8080/"
        },
        "id": "rQ3EcBAQa42B",
        "outputId": "9b153270-a296-4b35-e2ae-8f0076bae2fd"
      },
      "source": [
        "import tensorflow as tf\n",
        "\n",
        "from tensorflow import keras\n",
        "from tensorflow.keras import layers\n",
        "# Sequential 모델 생성은 각 레이어에 정확히 하나의 입력 텐서와 하나의 출력 텐서가 있는 일반 레이어 스택에 적합합니다.\n",
        "from tensorflow.keras.layers.experimental import preprocessing #전처리를 하기 위함\n",
        "print(tf.__version__)"
      ],
      "execution_count": 4,
      "outputs": [
        {
          "output_type": "stream",
          "text": [
            "2.5.0\n"
          ],
          "name": "stdout"
        }
      ]
    },
    {
      "cell_type": "markdown",
      "metadata": {
        "id": "Rlwtn1egESuc"
      },
      "source": [
        "데이터셋 가져오기"
      ]
    },
    {
      "cell_type": "markdown",
      "metadata": {
        "id": "pS_1xX9kEYoP"
      },
      "source": [
        ">판다스를 이용해서 데이터를 읽기"
      ]
    },
    {
      "cell_type": "code",
      "metadata": {
        "id": "pPyHgh7MdPoV"
      },
      "source": [
        "url = 'http://archive.ics.uci.edu/ml/machine-learning-databases/auto-mpg/auto-mpg.data'\n",
        "column_names = ['MPG', 'Cylinders', 'Displacement', 'Horsepower', 'Weight',\n",
        "                'Acceleration', 'Model Year', 'Origin']\n",
        "\n",
        "raw_dataset = pd.read_csv(url, names=column_names,\n",
        "                          na_values='?', comment='\\t',\n",
        "                          sep=' ', skipinitialspace=True)\n",
        "\n",
        "#데이터를 다음 주소로 부터 다운 받기\n",
        "#pandas data형태로 나타내기\n",
        "#저장 시 각 데이터를 칼럼으로 지정한다.\n",
        "\n",
        "# na_values: 결측치 값이 '?' 등의 다양한 모양으로 있을 수 있는데, 이들을 결측값으로 인식하라고 알려주는 것\n",
        "# comment: if comment='#', parsing #empty\\na,b,c\\n1,2,3 with header=0 will result in 'a,b,c' being treated as the header.\n",
        "# skipinitialspace: If True , the initial whitespaces will be removed."
      ],
      "execution_count": 5,
      "outputs": []
    },
    {
      "cell_type": "code",
      "metadata": {
        "colab": {
          "base_uri": "https://localhost:8080/",
          "height": 204
        },
        "id": "YM9iI9Y8dasb",
        "outputId": "dd384ad1-1845-434b-9878-58a457903d4f"
      },
      "source": [
        "dataset = raw_dataset.copy() # 원본을 유지하기 위해서 카피함\n",
        "dataset.tail()"
      ],
      "execution_count": 6,
      "outputs": [
        {
          "output_type": "execute_result",
          "data": {
            "text/html": [
              "<div>\n",
              "<style scoped>\n",
              "    .dataframe tbody tr th:only-of-type {\n",
              "        vertical-align: middle;\n",
              "    }\n",
              "\n",
              "    .dataframe tbody tr th {\n",
              "        vertical-align: top;\n",
              "    }\n",
              "\n",
              "    .dataframe thead th {\n",
              "        text-align: right;\n",
              "    }\n",
              "</style>\n",
              "<table border=\"1\" class=\"dataframe\">\n",
              "  <thead>\n",
              "    <tr style=\"text-align: right;\">\n",
              "      <th></th>\n",
              "      <th>MPG</th>\n",
              "      <th>Cylinders</th>\n",
              "      <th>Displacement</th>\n",
              "      <th>Horsepower</th>\n",
              "      <th>Weight</th>\n",
              "      <th>Acceleration</th>\n",
              "      <th>Model Year</th>\n",
              "      <th>Origin</th>\n",
              "    </tr>\n",
              "  </thead>\n",
              "  <tbody>\n",
              "    <tr>\n",
              "      <th>393</th>\n",
              "      <td>27.0</td>\n",
              "      <td>4</td>\n",
              "      <td>140.0</td>\n",
              "      <td>86.0</td>\n",
              "      <td>2790.0</td>\n",
              "      <td>15.6</td>\n",
              "      <td>82</td>\n",
              "      <td>1</td>\n",
              "    </tr>\n",
              "    <tr>\n",
              "      <th>394</th>\n",
              "      <td>44.0</td>\n",
              "      <td>4</td>\n",
              "      <td>97.0</td>\n",
              "      <td>52.0</td>\n",
              "      <td>2130.0</td>\n",
              "      <td>24.6</td>\n",
              "      <td>82</td>\n",
              "      <td>2</td>\n",
              "    </tr>\n",
              "    <tr>\n",
              "      <th>395</th>\n",
              "      <td>32.0</td>\n",
              "      <td>4</td>\n",
              "      <td>135.0</td>\n",
              "      <td>84.0</td>\n",
              "      <td>2295.0</td>\n",
              "      <td>11.6</td>\n",
              "      <td>82</td>\n",
              "      <td>1</td>\n",
              "    </tr>\n",
              "    <tr>\n",
              "      <th>396</th>\n",
              "      <td>28.0</td>\n",
              "      <td>4</td>\n",
              "      <td>120.0</td>\n",
              "      <td>79.0</td>\n",
              "      <td>2625.0</td>\n",
              "      <td>18.6</td>\n",
              "      <td>82</td>\n",
              "      <td>1</td>\n",
              "    </tr>\n",
              "    <tr>\n",
              "      <th>397</th>\n",
              "      <td>31.0</td>\n",
              "      <td>4</td>\n",
              "      <td>119.0</td>\n",
              "      <td>82.0</td>\n",
              "      <td>2720.0</td>\n",
              "      <td>19.4</td>\n",
              "      <td>82</td>\n",
              "      <td>1</td>\n",
              "    </tr>\n",
              "  </tbody>\n",
              "</table>\n",
              "</div>"
            ],
            "text/plain": [
              "      MPG  Cylinders  Displacement  ...  Acceleration  Model Year  Origin\n",
              "393  27.0          4         140.0  ...          15.6          82       1\n",
              "394  44.0          4          97.0  ...          24.6          82       2\n",
              "395  32.0          4         135.0  ...          11.6          82       1\n",
              "396  28.0          4         120.0  ...          18.6          82       1\n",
              "397  31.0          4         119.0  ...          19.4          82       1\n",
              "\n",
              "[5 rows x 8 columns]"
            ]
          },
          "metadata": {
            "tags": []
          },
          "execution_count": 6
        }
      ]
    },
    {
      "cell_type": "markdown",
      "metadata": {
        "id": "7iZFCkI_LmIV"
      },
      "source": [
        "데이터정리"
      ]
    },
    {
      "cell_type": "code",
      "metadata": {
        "colab": {
          "base_uri": "https://localhost:8080/"
        },
        "id": "3uCkHSttfFDK",
        "outputId": "6ef8d314-0eb3-4151-b2dc-fc7e93315b35"
      },
      "source": [
        "dataset.isna().sum() # isna()누락된 값을 찾는 함수 #연비 mpg Miles Per Gallon: 1갤런으로 주행한 마일"
      ],
      "execution_count": 7,
      "outputs": [
        {
          "output_type": "execute_result",
          "data": {
            "text/plain": [
              "MPG             0\n",
              "Cylinders       0\n",
              "Displacement    0\n",
              "Horsepower      6\n",
              "Weight          0\n",
              "Acceleration    0\n",
              "Model Year      0\n",
              "Origin          0\n",
              "dtype: int64"
            ]
          },
          "metadata": {
            "tags": []
          },
          "execution_count": 7
        }
      ]
    },
    {
      "cell_type": "code",
      "metadata": {
        "id": "6HliYMHXfJ8L"
      },
      "source": [
        "dataset = dataset.dropna() # .dropna() : 만약 누락된 column이 있으면 모두 삭제한다."
      ],
      "execution_count": 8,
      "outputs": []
    },
    {
      "cell_type": "markdown",
      "metadata": {
        "id": "EhV2D0pcJSEO"
      },
      "source": [
        "https://devuna.tistory.com/67"
      ]
    },
    {
      "cell_type": "markdown",
      "metadata": {
        "id": "Yi7KHhCT9WJB"
      },
      "source": [
        "Origin 컬럼의 index를 국가명으로 map을 이용해 바꾸어준다\n",
        "\n",
        "출처: https://gmnam.tistory.com/183 [Voyager]"
      ]
    },
    {
      "cell_type": "code",
      "metadata": {
        "id": "uwZ0GhMOftkL"
      },
      "source": [
        "dataset['Origin'] = dataset['Origin'].map({1: 'USA', 2: 'Europe', 3: 'Japan'}) \n",
        "# 원핫인코딩을 하지 않으면 1,2,3 숫자 사이에 순서나 대소관게가 형성될 수 있음.\n",
        "# map을 이용해 각 숫자를 나라 이름으로 매핑해줌"
      ],
      "execution_count": 9,
      "outputs": []
    },
    {
      "cell_type": "markdown",
      "metadata": {
        "id": "4TbqTHRo9ewG"
      },
      "source": [
        "위의 결과와 같이 바뀐 것을 확인한 후, get_dummies를 이용해 Origin을 3개의 feature를 갖는 one-hot encoding 형태로 변환해준다. \n",
        "#범주형이니 원핫 인코딩 #수치형으로 표시\n",
        "\n",
        "출처: https://gmnam.tistory.com/183 [Voyager]"
      ]
    },
    {
      "cell_type": "code",
      "metadata": {
        "colab": {
          "base_uri": "https://localhost:8080/",
          "height": 204
        },
        "id": "Ux9Xixiuf5IX",
        "outputId": "e386822f-df52-457b-dc8d-28d2b011bbe9"
      },
      "source": [
        "dataset = pd.get_dummies(dataset, columns=['Origin'], prefix='', prefix_sep='')\n",
        "dataset.tail()\n",
        "\n",
        "#수치화된 데이터를 가변수화하여 나타내 기계학습 시키기 #관계값이 없는데 수치형 데이터로만 변화하게 되면 서로간의 관계성이 생김\n",
        "#pd.get_dummies 처리 : 결측값을 제외하고 0과 1로 구성된 더미값이 만들어진다\n",
        "#dataset.tail() 매서드는 데이텅의 수가 많아 출력 요약하는 법(뒷쪽부분 .tail()/ 앞쪽부분 볼때 .head())\n",
        "\n",
        "#출처: https://devuna.tistory.com/67 [튜나 개발일기]"
      ],
      "execution_count": 10,
      "outputs": [
        {
          "output_type": "execute_result",
          "data": {
            "text/html": [
              "<div>\n",
              "<style scoped>\n",
              "    .dataframe tbody tr th:only-of-type {\n",
              "        vertical-align: middle;\n",
              "    }\n",
              "\n",
              "    .dataframe tbody tr th {\n",
              "        vertical-align: top;\n",
              "    }\n",
              "\n",
              "    .dataframe thead th {\n",
              "        text-align: right;\n",
              "    }\n",
              "</style>\n",
              "<table border=\"1\" class=\"dataframe\">\n",
              "  <thead>\n",
              "    <tr style=\"text-align: right;\">\n",
              "      <th></th>\n",
              "      <th>MPG</th>\n",
              "      <th>Cylinders</th>\n",
              "      <th>Displacement</th>\n",
              "      <th>Horsepower</th>\n",
              "      <th>Weight</th>\n",
              "      <th>Acceleration</th>\n",
              "      <th>Model Year</th>\n",
              "      <th>Europe</th>\n",
              "      <th>Japan</th>\n",
              "      <th>USA</th>\n",
              "    </tr>\n",
              "  </thead>\n",
              "  <tbody>\n",
              "    <tr>\n",
              "      <th>393</th>\n",
              "      <td>27.0</td>\n",
              "      <td>4</td>\n",
              "      <td>140.0</td>\n",
              "      <td>86.0</td>\n",
              "      <td>2790.0</td>\n",
              "      <td>15.6</td>\n",
              "      <td>82</td>\n",
              "      <td>0</td>\n",
              "      <td>0</td>\n",
              "      <td>1</td>\n",
              "    </tr>\n",
              "    <tr>\n",
              "      <th>394</th>\n",
              "      <td>44.0</td>\n",
              "      <td>4</td>\n",
              "      <td>97.0</td>\n",
              "      <td>52.0</td>\n",
              "      <td>2130.0</td>\n",
              "      <td>24.6</td>\n",
              "      <td>82</td>\n",
              "      <td>1</td>\n",
              "      <td>0</td>\n",
              "      <td>0</td>\n",
              "    </tr>\n",
              "    <tr>\n",
              "      <th>395</th>\n",
              "      <td>32.0</td>\n",
              "      <td>4</td>\n",
              "      <td>135.0</td>\n",
              "      <td>84.0</td>\n",
              "      <td>2295.0</td>\n",
              "      <td>11.6</td>\n",
              "      <td>82</td>\n",
              "      <td>0</td>\n",
              "      <td>0</td>\n",
              "      <td>1</td>\n",
              "    </tr>\n",
              "    <tr>\n",
              "      <th>396</th>\n",
              "      <td>28.0</td>\n",
              "      <td>4</td>\n",
              "      <td>120.0</td>\n",
              "      <td>79.0</td>\n",
              "      <td>2625.0</td>\n",
              "      <td>18.6</td>\n",
              "      <td>82</td>\n",
              "      <td>0</td>\n",
              "      <td>0</td>\n",
              "      <td>1</td>\n",
              "    </tr>\n",
              "    <tr>\n",
              "      <th>397</th>\n",
              "      <td>31.0</td>\n",
              "      <td>4</td>\n",
              "      <td>119.0</td>\n",
              "      <td>82.0</td>\n",
              "      <td>2720.0</td>\n",
              "      <td>19.4</td>\n",
              "      <td>82</td>\n",
              "      <td>0</td>\n",
              "      <td>0</td>\n",
              "      <td>1</td>\n",
              "    </tr>\n",
              "  </tbody>\n",
              "</table>\n",
              "</div>"
            ],
            "text/plain": [
              "      MPG  Cylinders  Displacement  Horsepower  ...  Model Year  Europe  Japan  USA\n",
              "393  27.0          4         140.0        86.0  ...          82       0      0    1\n",
              "394  44.0          4          97.0        52.0  ...          82       1      0    0\n",
              "395  32.0          4         135.0        84.0  ...          82       0      0    1\n",
              "396  28.0          4         120.0        79.0  ...          82       0      0    1\n",
              "397  31.0          4         119.0        82.0  ...          82       0      0    1\n",
              "\n",
              "[5 rows x 10 columns]"
            ]
          },
          "metadata": {
            "tags": []
          },
          "execution_count": 10
        }
      ]
    },
    {
      "cell_type": "markdown",
      "metadata": {
        "id": "KqwHceKjLskn"
      },
      "source": [
        "테이터 train과 test 분할"
      ]
    },
    {
      "cell_type": "code",
      "metadata": {
        "id": "cnDYulkKf7Pb"
      },
      "source": [
        "train_dataset = dataset.sample(frac=0.8, random_state=0)\n",
        "test_dataset = dataset.drop(train_dataset.index)\n",
        "#데이터셋을 훈련 세트와 테스트 세트로 분할하기\n",
        "#frac인수로 지정된 비율만큼의 행을 랜덤하게 뽑아서 새로운 데이터프레임을 만듭니다. 특정비율만큼 무작위 추출\n",
        "## 여기에서는 pandas dataframe의 sample 매서드를 이용해 dataset의 80%를 train_dataset으로 할당하였고, 이때 random_state는 0으로 주었다. 따라서 dataset의 앞 80%가 훈련 세트로 지정된다. 나머지 20%은 검증을 위한 세트가 된다. \n",
        "#출처: https://gmnam.tistory.com/183 [Voyager]\n",
        "\n",
        "# 데이터셋을 트레인, 테스트로 8:2 분할, 보통 train_test_split(dataset,test_size=0.2)\n",
        "\n",
        "#frac=1로 지정했다면 100%, 즉 모든 데이터를 뽑아서 섞는 것과 동일한 효과를 가집니다.\n",
        "#random_state = 난수 고정화,  세트를 섞을 때 해당 int 값을 보고 섞으며, 하이퍼 파라미터를 튜닝시 이 값을 고정해두고 튜닝해야 매번 데이터셋이 변경되는 것을 방지할 수 있습니다."
      ],
      "execution_count": 11,
      "outputs": []
    },
    {
      "cell_type": "code",
      "metadata": {
        "colab": {
          "base_uri": "https://localhost:8080/"
        },
        "id": "UCWpHS9sRFKp",
        "outputId": "a780992f-071b-475a-d870-c2f0cbf25d97"
      },
      "source": [
        "test_dataset.shape\n"
      ],
      "execution_count": 12,
      "outputs": [
        {
          "output_type": "execute_result",
          "data": {
            "text/plain": [
              "(78, 10)"
            ]
          },
          "metadata": {
            "tags": []
          },
          "execution_count": 12
        }
      ]
    },
    {
      "cell_type": "code",
      "metadata": {
        "colab": {
          "base_uri": "https://localhost:8080/"
        },
        "id": "t9qXa1AWRE8l",
        "outputId": "eef1f6ae-738a-4723-822d-0c19013e837d"
      },
      "source": [
        "train_dataset.shape\n"
      ],
      "execution_count": 13,
      "outputs": [
        {
          "output_type": "execute_result",
          "data": {
            "text/plain": [
              "(314, 10)"
            ]
          },
          "metadata": {
            "tags": []
          },
          "execution_count": 13
        }
      ]
    },
    {
      "cell_type": "code",
      "metadata": {
        "colab": {
          "base_uri": "https://localhost:8080/",
          "height": 744
        },
        "id": "nqDvd11yf-dV",
        "outputId": "41545db4-3c49-4301-eb64-d396e496933d"
      },
      "source": [
        "sns.pairplot(train_dataset[['MPG', 'Cylinders', 'Displacement', 'Weight']], diag_kind='kde') #산점도, 변수별 커널밀도추정곡선\n",
        "\n",
        "\n",
        "#MPG 연비,Cylinders 몇기통 , 출력량  displacement 배기량\n",
        "# diag_kind: 그래프 방식: diag_kind{‘auto’, ‘hist’, ‘kde’, None}\n",
        "#hue='species'를 사용하여 'species' 종(setosa, versicolor, virginica) 별로 색깔을 다르게 표시하여 추가적인 정보를 알 수 있도록 하였습니다.\n",
        "#출처: https://rfriend.tistory.com/416 [R, Python 분석과 프로그래밍의 친구 (by R Friend)]"
      ],
      "execution_count": 14,
      "outputs": [
        {
          "output_type": "execute_result",
          "data": {
            "text/plain": [
              "<seaborn.axisgrid.PairGrid at 0x7fc44752fa50>"
            ]
          },
          "metadata": {
            "tags": []
          },
          "execution_count": 14
        },
        {
          "output_type": "display_data",
          "data": {
            "image/png": "[encoded data removed]",
            "text/plain": [
              "<Figure size 720x720 with 20 Axes>"
            ]
          },
          "metadata": {
            "tags": [],
            "needs_background": "light"
          }
        }
      ]
    },
    {
      "cell_type": "code",
      "metadata": {
        "colab": {
          "base_uri": "https://localhost:8080/",
          "height": 359
        },
        "id": "O94gtspEgn8X",
        "outputId": "ff58c8b4-4710-4b94-f8f0-962b2a043c9a"
      },
      "source": [
        "train_dataset.describe().transpose() # tranpose 행렬바꾸기 # describe 전반적인 통계"
      ],
      "execution_count": 15,
      "outputs": [
        {
          "output_type": "execute_result",
          "data": {
            "text/html": [
              "<div>\n",
              "<style scoped>\n",
              "    .dataframe tbody tr th:only-of-type {\n",
              "        vertical-align: middle;\n",
              "    }\n",
              "\n",
              "    .dataframe tbody tr th {\n",
              "        vertical-align: top;\n",
              "    }\n",
              "\n",
              "    .dataframe thead th {\n",
              "        text-align: right;\n",
              "    }\n",
              "</style>\n",
              "<table border=\"1\" class=\"dataframe\">\n",
              "  <thead>\n",
              "    <tr style=\"text-align: right;\">\n",
              "      <th></th>\n",
              "      <th>count</th>\n",
              "      <th>mean</th>\n",
              "      <th>std</th>\n",
              "      <th>min</th>\n",
              "      <th>25%</th>\n",
              "      <th>50%</th>\n",
              "      <th>75%</th>\n",
              "      <th>max</th>\n",
              "    </tr>\n",
              "  </thead>\n",
              "  <tbody>\n",
              "    <tr>\n",
              "      <th>MPG</th>\n",
              "      <td>314.0</td>\n",
              "      <td>23.310510</td>\n",
              "      <td>7.728652</td>\n",
              "      <td>10.0</td>\n",
              "      <td>17.00</td>\n",
              "      <td>22.0</td>\n",
              "      <td>28.95</td>\n",
              "      <td>46.6</td>\n",
              "    </tr>\n",
              "    <tr>\n",
              "      <th>Cylinders</th>\n",
              "      <td>314.0</td>\n",
              "      <td>5.477707</td>\n",
              "      <td>1.699788</td>\n",
              "      <td>3.0</td>\n",
              "      <td>4.00</td>\n",
              "      <td>4.0</td>\n",
              "      <td>8.00</td>\n",
              "      <td>8.0</td>\n",
              "    </tr>\n",
              "    <tr>\n",
              "      <th>Displacement</th>\n",
              "      <td>314.0</td>\n",
              "      <td>195.318471</td>\n",
              "      <td>104.331589</td>\n",
              "      <td>68.0</td>\n",
              "      <td>105.50</td>\n",
              "      <td>151.0</td>\n",
              "      <td>265.75</td>\n",
              "      <td>455.0</td>\n",
              "    </tr>\n",
              "    <tr>\n",
              "      <th>Horsepower</th>\n",
              "      <td>314.0</td>\n",
              "      <td>104.869427</td>\n",
              "      <td>38.096214</td>\n",
              "      <td>46.0</td>\n",
              "      <td>76.25</td>\n",
              "      <td>94.5</td>\n",
              "      <td>128.00</td>\n",
              "      <td>225.0</td>\n",
              "    </tr>\n",
              "    <tr>\n",
              "      <th>Weight</th>\n",
              "      <td>314.0</td>\n",
              "      <td>2990.251592</td>\n",
              "      <td>843.898596</td>\n",
              "      <td>1649.0</td>\n",
              "      <td>2256.50</td>\n",
              "      <td>2822.5</td>\n",
              "      <td>3608.00</td>\n",
              "      <td>5140.0</td>\n",
              "    </tr>\n",
              "    <tr>\n",
              "      <th>Acceleration</th>\n",
              "      <td>314.0</td>\n",
              "      <td>15.559236</td>\n",
              "      <td>2.789230</td>\n",
              "      <td>8.0</td>\n",
              "      <td>13.80</td>\n",
              "      <td>15.5</td>\n",
              "      <td>17.20</td>\n",
              "      <td>24.8</td>\n",
              "    </tr>\n",
              "    <tr>\n",
              "      <th>Model Year</th>\n",
              "      <td>314.0</td>\n",
              "      <td>75.898089</td>\n",
              "      <td>3.675642</td>\n",
              "      <td>70.0</td>\n",
              "      <td>73.00</td>\n",
              "      <td>76.0</td>\n",
              "      <td>79.00</td>\n",
              "      <td>82.0</td>\n",
              "    </tr>\n",
              "    <tr>\n",
              "      <th>Europe</th>\n",
              "      <td>314.0</td>\n",
              "      <td>0.178344</td>\n",
              "      <td>0.383413</td>\n",
              "      <td>0.0</td>\n",
              "      <td>0.00</td>\n",
              "      <td>0.0</td>\n",
              "      <td>0.00</td>\n",
              "      <td>1.0</td>\n",
              "    </tr>\n",
              "    <tr>\n",
              "      <th>Japan</th>\n",
              "      <td>314.0</td>\n",
              "      <td>0.197452</td>\n",
              "      <td>0.398712</td>\n",
              "      <td>0.0</td>\n",
              "      <td>0.00</td>\n",
              "      <td>0.0</td>\n",
              "      <td>0.00</td>\n",
              "      <td>1.0</td>\n",
              "    </tr>\n",
              "    <tr>\n",
              "      <th>USA</th>\n",
              "      <td>314.0</td>\n",
              "      <td>0.624204</td>\n",
              "      <td>0.485101</td>\n",
              "      <td>0.0</td>\n",
              "      <td>0.00</td>\n",
              "      <td>1.0</td>\n",
              "      <td>1.00</td>\n",
              "      <td>1.0</td>\n",
              "    </tr>\n",
              "  </tbody>\n",
              "</table>\n",
              "</div>"
            ],
            "text/plain": [
              "              count         mean         std  ...     50%      75%     max\n",
              "MPG           314.0    23.310510    7.728652  ...    22.0    28.95    46.6\n",
              "Cylinders     314.0     5.477707    1.699788  ...     4.0     8.00     8.0\n",
              "Displacement  314.0   195.318471  104.331589  ...   151.0   265.75   455.0\n",
              "Horsepower    314.0   104.869427   38.096214  ...    94.5   128.00   225.0\n",
              "Weight        314.0  2990.251592  843.898596  ...  2822.5  3608.00  5140.0\n",
              "Acceleration  314.0    15.559236    2.789230  ...    15.5    17.20    24.8\n",
              "Model Year    314.0    75.898089    3.675642  ...    76.0    79.00    82.0\n",
              "Europe        314.0     0.178344    0.383413  ...     0.0     0.00     1.0\n",
              "Japan         314.0     0.197452    0.398712  ...     0.0     0.00     1.0\n",
              "USA           314.0     0.624204    0.485101  ...     1.0     1.00     1.0\n",
              "\n",
              "[10 rows x 8 columns]"
            ]
          },
          "metadata": {
            "tags": []
          },
          "execution_count": 15
        }
      ]
    },
    {
      "cell_type": "markdown",
      "metadata": {
        "id": "9u2RZwfuRK2Z"
      },
      "source": [
        "레이블에서 피처 분할\n",
        "\n"
      ]
    },
    {
      "cell_type": "code",
      "metadata": {
        "id": "WoeHlbFYgppn"
      },
      "source": [
        "train_features = train_dataset.copy() #얕은 카피 발생\n",
        "test_features = test_dataset.copy()\n",
        "\n",
        "train_labels = train_features.pop('MPG') #pop : 리스트 요소 제거하는 메소드. 여기서는 mpg 변수는 label값이므로 train dataset에서 mpg값을 끄집어 내 삭제한다\n",
        "test_labels = test_features.pop('MPG')"
      ],
      "execution_count": 16,
      "outputs": []
    },
    {
      "cell_type": "code",
      "metadata": {
        "colab": {
          "base_uri": "https://localhost:8080/",
          "height": 359
        },
        "id": "DnZQOtY8grNl",
        "outputId": "7b456db8-40ad-4752-8c44-9686aa27f4e6"
      },
      "source": [
        "train_dataset.describe().transpose()[['mean', 'std']] #표준화 작업을 직접 하기 위해 transpose() 처리를 해주기. 평균과 표준편차보기"
      ],
      "execution_count": 17,
      "outputs": [
        {
          "output_type": "execute_result",
          "data": {
            "text/html": [
              "<div>\n",
              "<style scoped>\n",
              "    .dataframe tbody tr th:only-of-type {\n",
              "        vertical-align: middle;\n",
              "    }\n",
              "\n",
              "    .dataframe tbody tr th {\n",
              "        vertical-align: top;\n",
              "    }\n",
              "\n",
              "    .dataframe thead th {\n",
              "        text-align: right;\n",
              "    }\n",
              "</style>\n",
              "<table border=\"1\" class=\"dataframe\">\n",
              "  <thead>\n",
              "    <tr style=\"text-align: right;\">\n",
              "      <th></th>\n",
              "      <th>mean</th>\n",
              "      <th>std</th>\n",
              "    </tr>\n",
              "  </thead>\n",
              "  <tbody>\n",
              "    <tr>\n",
              "      <th>MPG</th>\n",
              "      <td>23.310510</td>\n",
              "      <td>7.728652</td>\n",
              "    </tr>\n",
              "    <tr>\n",
              "      <th>Cylinders</th>\n",
              "      <td>5.477707</td>\n",
              "      <td>1.699788</td>\n",
              "    </tr>\n",
              "    <tr>\n",
              "      <th>Displacement</th>\n",
              "      <td>195.318471</td>\n",
              "      <td>104.331589</td>\n",
              "    </tr>\n",
              "    <tr>\n",
              "      <th>Horsepower</th>\n",
              "      <td>104.869427</td>\n",
              "      <td>38.096214</td>\n",
              "    </tr>\n",
              "    <tr>\n",
              "      <th>Weight</th>\n",
              "      <td>2990.251592</td>\n",
              "      <td>843.898596</td>\n",
              "    </tr>\n",
              "    <tr>\n",
              "      <th>Acceleration</th>\n",
              "      <td>15.559236</td>\n",
              "      <td>2.789230</td>\n",
              "    </tr>\n",
              "    <tr>\n",
              "      <th>Model Year</th>\n",
              "      <td>75.898089</td>\n",
              "      <td>3.675642</td>\n",
              "    </tr>\n",
              "    <tr>\n",
              "      <th>Europe</th>\n",
              "      <td>0.178344</td>\n",
              "      <td>0.383413</td>\n",
              "    </tr>\n",
              "    <tr>\n",
              "      <th>Japan</th>\n",
              "      <td>0.197452</td>\n",
              "      <td>0.398712</td>\n",
              "    </tr>\n",
              "    <tr>\n",
              "      <th>USA</th>\n",
              "      <td>0.624204</td>\n",
              "      <td>0.485101</td>\n",
              "    </tr>\n",
              "  </tbody>\n",
              "</table>\n",
              "</div>"
            ],
            "text/plain": [
              "                     mean         std\n",
              "MPG             23.310510    7.728652\n",
              "Cylinders        5.477707    1.699788\n",
              "Displacement   195.318471  104.331589\n",
              "Horsepower     104.869427   38.096214\n",
              "Weight        2990.251592  843.898596\n",
              "Acceleration    15.559236    2.789230\n",
              "Model Year      75.898089    3.675642\n",
              "Europe           0.178344    0.383413\n",
              "Japan            0.197452    0.398712\n",
              "USA              0.624204    0.485101"
            ]
          },
          "metadata": {
            "tags": []
          },
          "execution_count": 17
        }
      ]
    },
    {
      "cell_type": "markdown",
      "metadata": {
        "id": "n2pBgs_PcH0o"
      },
      "source": [
        "정규화(Nomalization)\n",
        "- 각 차원의 데이터가 동일한 범위내의 값을 갖도록 하는 전처리 기법\n",
        "- why? 특성의 스케일과 범위가 다르면 정규화를 하기\n",
        "안하면 모델이 수렴할 수 있지만 훈련하기 어렵다.\n",
        "따라서 scale을 통일시키는 작업이 필요하다\n",
        "-compact 하게 만들고 값의 범위를 축소시킨다.(if not, 값이 크면 노이즈 데이터 생성, overfitting 될 수 있다.), 활성함수 의미있게 하기 위해서 필요하다. \n",
        "- how? 평균값과 표준편차가 필요, 쉽게 하기 위해서 describe 함수 필요\n",
        "- 다양한 전처리\n",
        "- http://aikorea.org/cs231n/neural-networks-2-kr/"
      ]
    },
    {
      "cell_type": "markdown",
      "metadata": {
        "id": "YPcrp6vy5cD7"
      },
      "source": [
        "preprocessing.Normalization 계층은 모델에 전처리를 할 때 \n",
        " \n"
      ]
    },
    {
      "cell_type": "code",
      "metadata": {
        "id": "gFWNglNNgsm7"
      },
      "source": [
        "normalizer = preprocessing.Normalization(axis=-1) #정규화되어야 하는 축"
      ],
      "execution_count": 18,
      "outputs": []
    },
    {
      "cell_type": "code",
      "metadata": {
        "id": "1hkj5SmxguwD"
      },
      "source": [
        "normalizer.adapt(np.array(train_features)) \n",
        "#train_features 데이타를 layer에 adapt(적용) 시켜준다. 이 과정에서 각 feature별 평균과 표준편차 값이 계산된다. \n",
        "\n",
        "#출처: https://gmnam.tistory.com/183 [Voyager]"
      ],
      "execution_count": 19,
      "outputs": []
    },
    {
      "cell_type": "code",
      "metadata": {
        "colab": {
          "base_uri": "https://localhost:8080/"
        },
        "id": "iIN2_W9bhCwv",
        "outputId": "ab7970aa-9371-4307-c2bc-5c9acfb47f95"
      },
      "source": [
        "print(normalizer.mean.numpy()) # 평균 및 분산을 계산하고 레이어에 저장"
      ],
      "execution_count": 20,
      "outputs": [
        {
          "output_type": "stream",
          "text": [
            "[   5.478  195.318  104.869 2990.252   15.559   75.898    0.178    0.197\n",
            "    0.624]\n"
          ],
          "name": "stdout"
        }
      ]
    },
    {
      "cell_type": "code",
      "metadata": {
        "id": "wFbBi4vGhD3b",
        "colab": {
          "base_uri": "https://localhost:8080/"
        },
        "outputId": "3061271e-44e4-4ca5-c544-7877787ce024"
      },
      "source": [
        "first = np.array(train_features[:1]) #각 기능은 독립적으로 정규화됩니다.\n",
        "\n",
        "with np.printoptions(precision=2, suppress=True):\n",
        "  print('First example:', first)\n",
        "  print()\n",
        "  print('Normalized:', normalizer(first).numpy())"
      ],
      "execution_count": 21,
      "outputs": [
        {
          "output_type": "stream",
          "text": [
            "First example: [[   4.    90.    75.  2125.    14.5   74.     0.     0.     1. ]]\n",
            "\n",
            "Normalized: [[-0.87 -1.01 -0.79 -1.03 -0.38 -0.52 -0.47 -0.5   0.78]]\n"
          ],
          "name": "stdout"
        }
      ]
    },
    {
      "cell_type": "markdown",
      "metadata": {
        "id": "oYdfIrQwRnJq"
      },
      "source": [
        "## 모델 학습 순서 > test_results에 넣고 정확도를 비교\n",
        "Linear regression\n",
        "- single inputs > multiple inputs \n",
        "\n",
        "DNN regression\n",
        "- single inputs > multiple inputs "
      ]
    },
    {
      "cell_type": "markdown",
      "metadata": {
        "id": "2pzGWAJM_7TP"
      },
      "source": [
        "선형회귀\n",
        "single inputs"
      ]
    },
    {
      "cell_type": "code",
      "metadata": {
        "id": "w3nYFZ2thNm-"
      },
      "source": [
        "horsepower = np.array(train_features['Horsepower'])\n",
        "\n",
        "horsepower_normalizer = preprocessing.Normalization(input_shape=[1,], axis=None)\n",
        "horsepower_normalizer.adapt(horsepower)\n",
        "#horsepower만을 이용해 MPG를 예측하는 모델을 만들고 결과를 확인한다. \n",
        "#신경망 모델을 만들기 전에 규격화 layer를 정의하고, horsepower 데이터로 adapt 해준다. \n",
        "#출처: https://gmnam.tistory.com/183 [Voyager]"
      ],
      "execution_count": 22,
      "outputs": []
    },
    {
      "cell_type": "markdown",
      "metadata": {
        "id": "KdfCpP8kArhW"
      },
      "source": [
        "![image.png](data:image/png;base64,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)"
      ]
    },
    {
      "cell_type": "markdown",
      "metadata": {
        "id": "aGuewIl2hJtK"
      },
      "source": [
        ""
      ]
    },
    {
      "cell_type": "code",
      "metadata": {
        "id": "3dfYs4prhUmD",
        "colab": {
          "base_uri": "https://localhost:8080/"
        },
        "outputId": "8b0ef51f-2daf-45da-ecff-cf4c124057ed"
      },
      "source": [
        "horsepower_model = tf.keras.Sequential([\n",
        "    horsepower_normalizer,\n",
        "    layers.Dense(units=1)\n",
        "])\n",
        "\n",
        "horsepower_model.summary()\n",
        "#단일 뉴런을 가지는 모델을 만들고 summary()로 구조를 확인한다\n",
        "#출처: https://gmnam.tistory.com/183 [Voyager]\n",
        "\n",
        "#Dense layer에서 훈련 가능한 매개변수가 2개인 것을 확인할 수 있다. \n",
        "#이것은 weight과 bias이다. 또한, normalization layer에 3개의 훈련 대상이 아닌 변수를 확인할 수 있다. 규격화 층에서 변수의 개수가 어떻게 정해지에 대해서는 나중에 공부하기로 하자.\n",
        "#출처: https://gmnam.tistory.com/183 [Voyager]"
      ],
      "execution_count": 23,
      "outputs": [
        {
          "output_type": "stream",
          "text": [
            "Model: \"sequential\"\n",
            "_________________________________________________________________\n",
            "Layer (type)                 Output Shape              Param #   \n",
            "=================================================================\n",
            "normalization_1 (Normalizati (None, 1)                 3         \n",
            "_________________________________________________________________\n",
            "dense (Dense)                (None, 1)                 2         \n",
            "=================================================================\n",
            "Total params: 5\n",
            "Trainable params: 2\n",
            "Non-trainable params: 3\n",
            "_________________________________________________________________\n"
          ],
          "name": "stdout"
        }
      ]
    },
    {
      "cell_type": "markdown",
      "metadata": {
        "id": "9GHEzu0DAMVB"
      },
      "source": [
        "처음 10마력 값에서 훈련되지 않은 모델을 실행합니다. 출력은 좋지 않지만 예상 된 모양이 있음을 알 수 있습니다.(10,1)"
      ]
    },
    {
      "cell_type": "code",
      "metadata": {
        "id": "wh8Ugy2shVux",
        "colab": {
          "base_uri": "https://localhost:8080/"
        },
        "outputId": "1782d25e-64a0-4b1a-d40c-1f662ad6c785"
      },
      "source": [
        "horsepower_model.predict(horsepower[:10])"
      ],
      "execution_count": 24,
      "outputs": [
        {
          "output_type": "execute_result",
          "data": {
            "text/plain": [
              "array([[ 1.25 ],\n",
              "       [ 0.706],\n",
              "       [-2.307],\n",
              "       [ 1.752],\n",
              "       [ 1.584],\n",
              "       [ 0.622],\n",
              "       [ 1.877],\n",
              "       [ 1.584],\n",
              "       [ 0.413],\n",
              "       [ 0.706]], dtype=float32)"
            ]
          },
          "metadata": {
            "tags": []
          },
          "execution_count": 24
        }
      ]
    },
    {
      "cell_type": "markdown",
      "metadata": {
        "id": "d6wvDJTMBK0v"
      },
      "source": [
        "매서드 model.compile(()을 활용해서 최적화 방법과 loss 함수를 정의하여 컴파일 하기\n",
        "Adam을 optimizer로 사용하고,  loss를 mean_absolute_error로 할당"
      ]
    },
    {
      "cell_type": "code",
      "metadata": {
        "id": "TNewduaqhXjk"
      },
      "source": [
        "horsepower_model.compile(\n",
        "    optimizer=tf.optimizers.Adam(learning_rate=0.1),\n",
        "    loss='mean_absolute_error')"
      ],
      "execution_count": 25,
      "outputs": []
    },
    {
      "cell_type": "markdown",
      "metadata": {
        "id": "aErBEyEUByI_"
      },
      "source": [
        "이제 모델을 훈련시킬 수 있다. validation_split을 20%로 주어 훈련과 검증이 동시에 진행되도록 한다. 100번의 반복으로 모델을 훈련시켰고 verbose=0을 주어 훈련 중간 과정 출력을 생략하도록 한다. \n",
        "\n",
        "\n",
        "\n",
        "출처: https://gmnam.tistory.com/183 [Voyager]"
      ]
    },
    {
      "cell_type": "code",
      "metadata": {
        "id": "dkkTEhuphY9E",
        "colab": {
          "base_uri": "https://localhost:8080/"
        },
        "outputId": "7bef6129-0ff3-487c-b206-8506e2937cce"
      },
      "source": [
        "%%time\n",
        "history = horsepower_model.fit(\n",
        "    train_features['Horsepower'], train_labels,\n",
        "    epochs=100,\n",
        "    # suppress logging\n",
        "    verbose=0,\n",
        "    # Calculate validation results on 20% of the training data\n",
        "    validation_split = 0.2)"
      ],
      "execution_count": 26,
      "outputs": [
        {
          "output_type": "stream",
          "text": [
            "CPU times: user 2.65 s, sys: 139 ms, total: 2.78 s\n",
            "Wall time: 2.91 s\n"
          ],
          "name": "stdout"
        }
      ]
    },
    {
      "cell_type": "markdown",
      "metadata": {
        "id": "unvTqBVyCOYY"
      },
      "source": [
        "history object에서 저장된 상태로 모델 트레이닝 진행을 시각화하기"
      ]
    },
    {
      "cell_type": "code",
      "metadata": {
        "colab": {
          "base_uri": "https://localhost:8080/"
        },
        "id": "wCvuIrMMTF4p",
        "outputId": "5451f15d-15d3-4025-c0be-28fca46509ce"
      },
      "source": [
        "hist"
      ],
      "execution_count": 27,
      "outputs": [
        {
          "output_type": "stream",
          "text": [
            "#필요한 라이브러리 import 하기\n",
            "#산점도를 그리기 위해서 seaborn패키지 설치\n",
            "import matplotlib.pyplot as plt # 자료 시각화하는 차트그리기\n",
            "import numpy as np #연산\n",
            "import pandas as pd #행과 열로 데이터 객체를 다룸, Pandas는 구조적 데이터를 로드하고 처리하는 데 유용한 여러 유틸리티가 포함된 Python 라이브러리입니다.\n",
            "import seaborn as sns\n",
            "np.set_printoptions(precision=3, suppress=True)\n",
            "#pricision(출력값)은 소수점 3째자리, 매서드에서 suppress를 true로 할 경우 실수로 보여준다. false로 할 경우 1e3일 때 과학적 표기법\n",
            "#기본은 false로설정 되어있음\n",
            "import tensorflow as tf\n",
            "\n",
            "from tensorflow import keras\n",
            "from tensorflow.keras import layers\n",
            "# Sequential 모델 생성은 각 레이어에 정확히 하나의 입력 텐서와 하나의 출력 텐서가 있는 일반 레이어 스택에 적합합니다.\n",
            "from tensorflow.keras.layers.experimental import preprocessing #전처리를 하기 위함\n",
            "print(tf.__version__)\n",
            "url = 'http://archive.ics.uci.edu/ml/machine-learning-databases/auto-mpg/auto-mpg.data'\n",
            "column_names = ['MPG', 'Cylinders', 'Displacement', 'Horsepower', 'Weight',\n",
            "                'Acceleration', 'Model Year', 'Origin']\n",
            "\n",
            "raw_dataset = pd.read_csv(url, names=column_names,\n",
            "                          na_values='?', comment='\\t',\n",
            "                          sep=' ', skipinitialspace=True)\n",
            "\n",
            "#데이터를 다음 주소로 부터 다운 받기\n",
            "#pandas data형태로 나타내기\n",
            "#저장 시 각 데이터를 칼럼으로 지정한다.\n",
            "\n",
            "# na_values: 결측치 값이 '?' 등의 다양한 모양으로 있을 수 있는데, 이들을 결측값으로 인식하라고 알려주는 것\n",
            "# comment: if comment='#', parsing #empty\\na,b,c\\n1,2,3 with header=0 will result in 'a,b,c' being treated as the header.\n",
            "# skipinitialspace: If True , the initial whitespaces will be removed.\n",
            "dataset = raw_dataset.copy() # 원본을 유지하기 위해서 카피함\n",
            "dataset.tail()\n",
            "dataset.isna().sum() # isna()누락된 값을 찾는 함수 #연비 mpg Miles Per Gallon: 1갤런으로 주행한 마일\n",
            "dataset = dataset.dropna() # .dropna() : 만약 누락된 column이 있으면 모두 삭제한다.\n",
            "dataset['Origin'] = dataset['Origin'].map({1: 'USA', 2: 'Europe', 3: 'Japan'}) \n",
            "# 원핫인코딩을 하지 않으면 1,2,3 숫자 사이에 순서나 대소관게가 형성될 수 있음.\n",
            "# map을 이용해 각 숫자를 나라 이름으로 매핑해줌\n",
            "dataset = pd.get_dummies(dataset, columns=['Origin'], prefix='', prefix_sep='')\n",
            "dataset.tail()\n",
            "\n",
            "#수치화된 데이터를 가변수화하여 나타내 기계학습 시키기 #관계값이 없는데 수치형 데이터로만 변화하게 되면 서로간의 관계성이 생김\n",
            "#pd.get_dummies 처리 : 결측값을 제외하고 0과 1로 구성된 더미값이 만들어진다\n",
            "#dataset.tail() 매서드는 데이텅의 수가 많아 출력 요약하는 법(뒷쪽부분 .tail()/ 앞쪽부분 볼때 .head())\n",
            "\n",
            "#출처: https://devuna.tistory.com/67 [튜나 개발일기]\n",
            "train_dataset = dataset.sample(frac=0.8, random_state=0)\n",
            "test_dataset = dataset.drop(train_dataset.index)\n",
            "#데이터셋을 훈련 세트와 테스트 세트로 분할하기\n",
            "#frac인수로 지정된 비율만큼의 행을 랜덤하게 뽑아서 새로운 데이터프레임을 만듭니다. 특정비율만큼 무작위 추출\n",
            "## 여기에서는 pandas dataframe의 sample 매서드를 이용해 dataset의 80%를 train_dataset으로 할당하였고, 이때 random_state는 0으로 주었다. 따라서 dataset의 앞 80%가 훈련 세트로 지정된다. 나머지 20%은 검증을 위한 세트가 된다. \n",
            "#출처: https://gmnam.tistory.com/183 [Voyager]\n",
            "\n",
            "# 데이터셋을 트레인, 테스트로 8:2 분할, 보통 train_test_split(dataset,test_size=0.2)\n",
            "\n",
            "#frac=1로 지정했다면 100%, 즉 모든 데이터를 뽑아서 섞는 것과 동일한 효과를 가집니다.\n",
            "#random_state = 난수 고정화,  세트를 섞을 때 해당 int 값을 보고 섞으며, 하이퍼 파라미터를 튜닝시 이 값을 고정해두고 튜닝해야 매번 데이터셋이 변경되는 것을 방지할 수 있습니다.\n",
            "test_dataset.shape\n",
            "train_dataset.shape\n",
            "sns.pairplot(train_dataset[['MPG', 'Cylinders', 'Displacement', 'Weight']], diag_kind='kde') #산점도, 변수별 커널밀도추정곡선\n",
            "\n",
            "\n",
            "#MPG 연비,Cylinders 몇기통 , 출력량  displacement 배기량\n",
            "# diag_kind: 그래프 방식: diag_kind{‘auto’, ‘hist’, ‘kde’, None}\n",
            "#hue='species'를 사용하여 'species' 종(setosa, versicolor, virginica) 별로 색깔을 다르게 표시하여 추가적인 정보를 알 수 있도록 하였습니다.\n",
            "#출처: https://rfriend.tistory.com/416 [R, Python 분석과 프로그래밍의 친구 (by R Friend)]\n",
            "train_dataset.describe().transpose() # tranpose 행렬바꾸기 # describe 전반적인 통계\n",
            "train_features = train_dataset.copy() #얕은 카피 발생\n",
            "test_features = test_dataset.copy()\n",
            "\n",
            "train_labels = train_features.pop('MPG') #pop : 리스트 요소 제거하는 메소드. 여기서는 mpg 변수는 label값이므로 train dataset에서 mpg값을 끄집어 내 삭제한다\n",
            "test_labels = test_features.pop('MPG')\n",
            "train_dataset.describe().transpose()[['mean', 'std']] #평균과 표준편차보기\n",
            "normalizer = preprocessing.Normalization(axis=-1) #정규화되어야 하는 축\n",
            "normalizer.adapt(np.array(train_features)) \n",
            "#train_features 데이타를 layer에 adapt(적용) 시켜준다. 이 과정에서 각 feature별 평균과 표준편차 값이 계산된다. \n",
            "\n",
            "#출처: https://gmnam.tistory.com/183 [Voyager]\n",
            "print(normalizer.mean.numpy()) # 평균 및 분산을 계산하고 레이어에 저장\n",
            "first = np.array(train_features[:1]) #각 기능은 독립적으로 정규화됩니다.\n",
            "\n",
            "with np.printoptions(precision=2, suppress=True):\n",
            "  print('First example:', first)\n",
            "  print()\n",
            "  print('Normalized:', normalizer(first).numpy())\n",
            "horsepower = np.array(train_features['Horsepower'])\n",
            "\n",
            "horsepower_normalizer = preprocessing.Normalization(input_shape=[1,], axis=None)\n",
            "horsepower_normalizer.adapt(horsepower)\n",
            "#horsepower만을 이용해 MPG를 예측하는 모델을 만들고 결과를 확인한다. \n",
            "#신경망 모델을 만들기 전에 규격화 layer를 정의하고, horsepower 데이터로 adapt 해준다. \n",
            "#출처: https://gmnam.tistory.com/183 [Voyager]\n",
            "horsepower_model = tf.keras.Sequential([\n",
            "    horsepower_normalizer,\n",
            "    layers.Dense(units=1)\n",
            "])\n",
            "\n",
            "horsepower_model.summary()\n",
            "#단일 뉴런을 가지는 모델을 만들고 summary()로 구조를 확인한다\n",
            "#출처: https://gmnam.tistory.com/183 [Voyager]\n",
            "\n",
            "#Dense layer에서 훈련 가능한 매개변수가 2개인 것을 확인할 수 있다. \n",
            "#이것은 weight과 bias이다. 또한, normalization layer에 3개의 훈련 대상이 아닌 변수를 확인할 수 있다. 규격화 층에서 변수의 개수가 어떻게 정해지에 대해서는 나중에 공부하기로 하자.\n",
            "#출처: https://gmnam.tistory.com/183 [Voyager]\n",
            "horsepower_model.predict(horsepower[:10])\n",
            "horsepower_model.compile(\n",
            "    optimizer=tf.optimizers.Adam(learning_rate=0.1),\n",
            "    loss='mean_absolute_error')\n",
            "%%time\n",
            "history = horsepower_model.fit(\n",
            "    train_features['Horsepower'], train_labels,\n",
            "    epochs=100,\n",
            "    # suppress logging\n",
            "    verbose=0,\n",
            "    # Calculate validation results on 20% of the training data\n",
            "    validation_split = 0.2)\n",
            "hist\n"
          ],
          "name": "stdout"
        }
      ]
    },
    {
      "cell_type": "code",
      "metadata": {
        "id": "Z6nn9hBQhab_",
        "colab": {
          "base_uri": "https://localhost:8080/",
          "height": 204
        },
        "outputId": "66070be9-ffa7-4e14-e5da-a42f71cc2636"
      },
      "source": [
        "hist = pd.DataFrame(history.history)\n",
        "hist['epoch'] = history.epoch\n",
        "hist.tail()"
      ],
      "execution_count": 28,
      "outputs": [
        {
          "output_type": "execute_result",
          "data": {
            "text/html": [
              "<div>\n",
              "<style scoped>\n",
              "    .dataframe tbody tr th:only-of-type {\n",
              "        vertical-align: middle;\n",
              "    }\n",
              "\n",
              "    .dataframe tbody tr th {\n",
              "        vertical-align: top;\n",
              "    }\n",
              "\n",
              "    .dataframe thead th {\n",
              "        text-align: right;\n",
              "    }\n",
              "</style>\n",
              "<table border=\"1\" class=\"dataframe\">\n",
              "  <thead>\n",
              "    <tr style=\"text-align: right;\">\n",
              "      <th></th>\n",
              "      <th>loss</th>\n",
              "      <th>val_loss</th>\n",
              "      <th>epoch</th>\n",
              "    </tr>\n",
              "  </thead>\n",
              "  <tbody>\n",
              "    <tr>\n",
              "      <th>95</th>\n",
              "      <td>3.803388</td>\n",
              "      <td>4.199890</td>\n",
              "      <td>95</td>\n",
              "    </tr>\n",
              "    <tr>\n",
              "      <th>96</th>\n",
              "      <td>3.805984</td>\n",
              "      <td>4.210970</td>\n",
              "      <td>96</td>\n",
              "    </tr>\n",
              "    <tr>\n",
              "      <th>97</th>\n",
              "      <td>3.806188</td>\n",
              "      <td>4.190248</td>\n",
              "      <td>97</td>\n",
              "    </tr>\n",
              "    <tr>\n",
              "      <th>98</th>\n",
              "      <td>3.802022</td>\n",
              "      <td>4.185576</td>\n",
              "      <td>98</td>\n",
              "    </tr>\n",
              "    <tr>\n",
              "      <th>99</th>\n",
              "      <td>3.803395</td>\n",
              "      <td>4.197226</td>\n",
              "      <td>99</td>\n",
              "    </tr>\n",
              "  </tbody>\n",
              "</table>\n",
              "</div>"
            ],
            "text/plain": [
              "        loss  val_loss  epoch\n",
              "95  3.803388  4.199890     95\n",
              "96  3.805984  4.210970     96\n",
              "97  3.806188  4.190248     97\n",
              "98  3.802022  4.185576     98\n",
              "99  3.803395  4.197226     99"
            ]
          },
          "metadata": {
            "tags": []
          },
          "execution_count": 28
        }
      ]
    },
    {
      "cell_type": "code",
      "metadata": {
        "id": "4LsyUg4Ghbqd"
      },
      "source": [
        "def plot_loss(history):\n",
        "  plt.plot(history.history['loss'], label='loss')\n",
        "  plt.plot(history.history['val_loss'], label='val_loss')\n",
        "  plt.ylim([0, 10])\n",
        "  plt.xlabel('Epoch')\n",
        "  plt.ylabel('Error [MPG]')\n",
        "  plt.legend()\n",
        "  plt.grid(True)"
      ],
      "execution_count": 29,
      "outputs": []
    },
    {
      "cell_type": "code",
      "metadata": {
        "id": "2P6BCI7Xhd0i",
        "colab": {
          "base_uri": "https://localhost:8080/",
          "height": 283
        },
        "outputId": "f3a71761-70ce-42b8-e7ef-c74c3c2f3941"
      },
      "source": [
        "plot_loss(history)"
      ],
      "execution_count": 30,
      "outputs": [
        {
          "output_type": "display_data",
          "data": {
            "image/png": "[encoded data removed]",
            "text/plain": [
              "<Figure size 432x288 with 1 Axes>"
            ]
          },
          "metadata": {
            "tags": [],
            "needs_background": "light"
          }
        }
      ]
    },
    {
      "cell_type": "code",
      "metadata": {
        "id": "DTYXsaMIhe56",
        "colab": {
          "base_uri": "https://localhost:8080/"
        },
        "outputId": "65e485e8-aaf0-446e-c0e6-bfbd046ee558"
      },
      "source": [
        "test_results = {}\n",
        "\n",
        "test_results['horsepower_model'] = horsepower_model.evaluate(\n",
        "    test_features['Horsepower'],\n",
        "    test_labels, verbose=0)\n",
        "test_results"
      ],
      "execution_count": 31,
      "outputs": [
        {
          "output_type": "execute_result",
          "data": {
            "text/plain": [
              "{'horsepower_model': 3.6538922786712646}"
            ]
          },
          "metadata": {
            "tags": []
          },
          "execution_count": 31
        }
      ]
    },
    {
      "cell_type": "code",
      "metadata": {
        "id": "l2xbGLCPhgNR"
      },
      "source": [
        "x = tf.linspace(0.0, 250, 251) # x: 0-250까지, 251개의 숫자를 생성\n",
        "y = horsepower_model.predict(x)"
      ],
      "execution_count": 32,
      "outputs": []
    },
    {
      "cell_type": "code",
      "metadata": {
        "id": "K8uGRT3TTmiB",
        "colab": {
          "base_uri": "https://localhost:8080/"
        },
        "outputId": "1827fd04-3580-47e2-ea9b-278a2680ec5b"
      },
      "source": [
        "train_features['Horsepower'].shape\n"
      ],
      "execution_count": 33,
      "outputs": [
        {
          "output_type": "execute_result",
          "data": {
            "text/plain": [
              "(314,)"
            ]
          },
          "metadata": {
            "tags": []
          },
          "execution_count": 33
        }
      ]
    },
    {
      "cell_type": "code",
      "metadata": {
        "id": "PzPmDRllhhcb"
      },
      "source": [
        "def plot_horsepower(x, y):\n",
        "  plt.scatter(train_features['Horsepower'], train_labels, label='Data')\n",
        "  plt.plot(x, y, color='k', label='Predictions')\n",
        "  plt.xlabel('Horsepower')\n",
        "  plt.ylabel('MPG')\n",
        "  plt.legend()"
      ],
      "execution_count": 34,
      "outputs": []
    },
    {
      "cell_type": "code",
      "metadata": {
        "id": "09K3Dz1UhiSq",
        "colab": {
          "base_uri": "https://localhost:8080/",
          "height": 279
        },
        "outputId": "2b244882-d467-4466-bdcd-f7c27b18ffb3"
      },
      "source": [
        "plot_horsepower(x,y)"
      ],
      "execution_count": 35,
      "outputs": [
        {
          "output_type": "display_data",
          "data": {
            "image/png": "[encoded data removed]",
            "text/plain": [
              "<Figure size 432x288 with 1 Axes>"
            ]
          },
          "metadata": {
            "tags": [],
            "needs_background": "light"
          }
        }
      ]
    },
    {
      "cell_type": "markdown",
      "metadata": {
        "id": "qMhwhC5lT2A7"
      },
      "source": [
        "Multiple inputs\n",
        "\n"
      ]
    },
    {
      "cell_type": "code",
      "metadata": {
        "id": "1QbZ9nExhjg3"
      },
      "source": [
        "linear_model = tf.keras.Sequential([\n",
        "    normalizer,\n",
        "    layers.Dense(units=1)\n",
        "])"
      ],
      "execution_count": 36,
      "outputs": []
    },
    {
      "cell_type": "code",
      "metadata": {
        "id": "QijA2N4PT69j",
        "colab": {
          "base_uri": "https://localhost:8080/"
        },
        "outputId": "708f11fb-3617-4ab2-dbf2-f5920a6b440e"
      },
      "source": [
        "\n",
        "linear_model.summary()\n",
        "\n",
        "# trainable 10개: 9개의 weights, 1개의 bias\n",
        "# 19개의 훈련하지 않아도 되는 변수가 생성됐음"
      ],
      "execution_count": 37,
      "outputs": [
        {
          "output_type": "stream",
          "text": [
            "Model: \"sequential_1\"\n",
            "_________________________________________________________________\n",
            "Layer (type)                 Output Shape              Param #   \n",
            "=================================================================\n",
            "normalization (Normalization (None, 9)                 19        \n",
            "_________________________________________________________________\n",
            "dense_1 (Dense)              (None, 1)                 10        \n",
            "=================================================================\n",
            "Total params: 29\n",
            "Trainable params: 10\n",
            "Non-trainable params: 19\n",
            "_________________________________________________________________\n"
          ],
          "name": "stdout"
        }
      ]
    },
    {
      "cell_type": "code",
      "metadata": {
        "id": "tOakN6kdT7bE",
        "colab": {
          "base_uri": "https://localhost:8080/"
        },
        "outputId": "4e4ea801-2d39-4446-cc89-41fdb92290b1"
      },
      "source": [
        "horsepower_model.summary()\n"
      ],
      "execution_count": 38,
      "outputs": [
        {
          "output_type": "stream",
          "text": [
            "Model: \"sequential\"\n",
            "_________________________________________________________________\n",
            "Layer (type)                 Output Shape              Param #   \n",
            "=================================================================\n",
            "normalization_1 (Normalizati (None, 1)                 3         \n",
            "_________________________________________________________________\n",
            "dense (Dense)                (None, 1)                 2         \n",
            "=================================================================\n",
            "Total params: 5\n",
            "Trainable params: 2\n",
            "Non-trainable params: 3\n",
            "_________________________________________________________________\n"
          ],
          "name": "stdout"
        }
      ]
    },
    {
      "cell_type": "code",
      "metadata": {
        "id": "nVAviAmahkr2",
        "colab": {
          "base_uri": "https://localhost:8080/"
        },
        "outputId": "8fca7f63-bc7c-4016-e857-3bb546285540"
      },
      "source": [
        "linear_model.predict(train_features[:10])\n",
        "# trainable 10개: 9개의 weights, 1개의 bias\n",
        "# 19개의 훈련하지 않아도 되는 변수가 생성됐음"
      ],
      "execution_count": 39,
      "outputs": [
        {
          "output_type": "execute_result",
          "data": {
            "text/plain": [
              "array([[ 1.049],\n",
              "       [-0.057],\n",
              "       [-0.654],\n",
              "       [ 0.644],\n",
              "       [ 0.291],\n",
              "       [-0.188],\n",
              "       [ 0.339],\n",
              "       [-1.137],\n",
              "       [ 0.125],\n",
              "       [ 0.344]], dtype=float32)"
            ]
          },
          "metadata": {
            "tags": []
          },
          "execution_count": 39
        }
      ]
    },
    {
      "cell_type": "code",
      "metadata": {
        "id": "hbxaWwzihmLp",
        "colab": {
          "base_uri": "https://localhost:8080/"
        },
        "outputId": "136dcb10-8dca-430b-d03c-e256fd555787"
      },
      "source": [
        "linear_model.layers[1].kernel"
      ],
      "execution_count": 40,
      "outputs": [
        {
          "output_type": "execute_result",
          "data": {
            "text/plain": [
              "<tf.Variable 'dense_1/kernel:0' shape=(9, 1) dtype=float32, numpy=\n",
              "array([[-0.101],\n",
              "       [ 0.089],\n",
              "       [-0.388],\n",
              "       [-0.387],\n",
              "       [-0.34 ],\n",
              "       [-0.237],\n",
              "       [-0.021],\n",
              "       [ 0.177],\n",
              "       [ 0.226]], dtype=float32)>"
            ]
          },
          "metadata": {
            "tags": []
          },
          "execution_count": 40
        }
      ]
    },
    {
      "cell_type": "code",
      "metadata": {
        "id": "cgjtK6GmhnQv"
      },
      "source": [
        "linear_model.compile(\n",
        "    optimizer=tf.optimizers.Adam(learning_rate=0.1),\n",
        "    loss='mean_absolute_error')"
      ],
      "execution_count": 41,
      "outputs": []
    },
    {
      "cell_type": "code",
      "metadata": {
        "id": "C1lq1x2IhoPC",
        "colab": {
          "base_uri": "https://localhost:8080/"
        },
        "outputId": "bfec889b-9ccd-4633-fda8-b4c0f5e3792f"
      },
      "source": [
        "%%time\n",
        "history = linear_model.fit(\n",
        "    train_features, train_labels, \n",
        "    epochs=100,\n",
        "    # suppress logging\n",
        "    verbose=0,\n",
        "    # Calculate validation results on 20% of the training data\n",
        "    validation_split = 0.2)"
      ],
      "execution_count": 42,
      "outputs": [
        {
          "output_type": "stream",
          "text": [
            "CPU times: user 2.72 s, sys: 144 ms, total: 2.87 s\n",
            "Wall time: 2.74 s\n"
          ],
          "name": "stdout"
        }
      ]
    },
    {
      "cell_type": "code",
      "metadata": {
        "id": "Fk1Y7pX4hpZT",
        "colab": {
          "base_uri": "https://localhost:8080/",
          "height": 283
        },
        "outputId": "3f992c43-aa43-458a-bf4b-a826fa6a37c0"
      },
      "source": [
        "plot_loss(history)"
      ],
      "execution_count": 43,
      "outputs": [
        {
          "output_type": "display_data",
          "data": {
            "image/png": "[encoded data removed]",
            "text/plain": [
              "<Figure size 432x288 with 1 Axes>"
            ]
          },
          "metadata": {
            "tags": [],
            "needs_background": "light"
          }
        }
      ]
    },
    {
      "cell_type": "code",
      "metadata": {
        "id": "QUqqfbrwhqfk",
        "colab": {
          "base_uri": "https://localhost:8080/"
        },
        "outputId": "8d6cbe10-9ae6-4e40-f9b4-2161723c2e6e"
      },
      "source": [
        "test_results['linear_model'] = linear_model.evaluate(\n",
        "    test_features, test_labels, verbose=0)\n",
        "test_results"
      ],
      "execution_count": 44,
      "outputs": [
        {
          "output_type": "execute_result",
          "data": {
            "text/plain": [
              "{'horsepower_model': 3.6538922786712646, 'linear_model': 2.4590563774108887}"
            ]
          },
          "metadata": {
            "tags": []
          },
          "execution_count": 44
        }
      ]
    },
    {
      "cell_type": "code",
      "metadata": {
        "id": "2gLf_mKThrun"
      },
      "source": [
        "def build_and_compile_model(norm):\n",
        "  model = keras.Sequential([\n",
        "      norm,\n",
        "      layers.Dense(64, activation='relu'),\n",
        "      layers.Dense(64, activation='relu'),\n",
        "      layers.Dense(1)\n",
        "  ])\n",
        "\n",
        "  model.compile(loss='mean_absolute_error',\n",
        "                optimizer=tf.keras.optimizers.Adam(0.001))\n",
        "  return model"
      ],
      "execution_count": 45,
      "outputs": []
    },
    {
      "cell_type": "code",
      "metadata": {
        "id": "60iUh4l3htOk"
      },
      "source": [
        "dnn_horsepower_model = build_and_compile_model(horsepower_normalizer)"
      ],
      "execution_count": 46,
      "outputs": []
    },
    {
      "cell_type": "code",
      "metadata": {
        "id": "KxUB6vF4hu1H",
        "colab": {
          "base_uri": "https://localhost:8080/"
        },
        "outputId": "b21fb1e4-d981-4c17-f6fb-2384ac792b1c"
      },
      "source": [
        "dnn_horsepower_model.summary()"
      ],
      "execution_count": 47,
      "outputs": [
        {
          "output_type": "stream",
          "text": [
            "Model: \"sequential_2\"\n",
            "_________________________________________________________________\n",
            "Layer (type)                 Output Shape              Param #   \n",
            "=================================================================\n",
            "normalization_1 (Normalizati (None, 1)                 3         \n",
            "_________________________________________________________________\n",
            "dense_2 (Dense)              (None, 64)                128       \n",
            "_________________________________________________________________\n",
            "dense_3 (Dense)              (None, 64)                4160      \n",
            "_________________________________________________________________\n",
            "dense_4 (Dense)              (None, 1)                 65        \n",
            "=================================================================\n",
            "Total params: 4,356\n",
            "Trainable params: 4,353\n",
            "Non-trainable params: 3\n",
            "_________________________________________________________________\n"
          ],
          "name": "stdout"
        }
      ]
    },
    {
      "cell_type": "code",
      "metadata": {
        "id": "XloeX6PEhwBY",
        "colab": {
          "base_uri": "https://localhost:8080/"
        },
        "outputId": "a0677ece-5b8a-48e8-fefc-92f0707f169b"
      },
      "source": [
        "%%time\n",
        "history = dnn_horsepower_model.fit(\n",
        "    train_features['Horsepower'], train_labels,\n",
        "    validation_split=0.2,\n",
        "    verbose=0, epochs=100)"
      ],
      "execution_count": 48,
      "outputs": [
        {
          "output_type": "stream",
          "text": [
            "CPU times: user 3.24 s, sys: 177 ms, total: 3.41 s\n",
            "Wall time: 3.11 s\n"
          ],
          "name": "stdout"
        }
      ]
    },
    {
      "cell_type": "code",
      "metadata": {
        "id": "Ww_gjTB5hxF-",
        "colab": {
          "base_uri": "https://localhost:8080/",
          "height": 283
        },
        "outputId": "7fe5a212-3b12-4d77-b93c-2e11228bbf35"
      },
      "source": [
        "plot_loss(history)"
      ],
      "execution_count": 49,
      "outputs": [
        {
          "output_type": "display_data",
          "data": {
            "image/png": "[encoded data removed]",
            "text/plain": [
              "<Figure size 432x288 with 1 Axes>"
            ]
          },
          "metadata": {
            "tags": [],
            "needs_background": "light"
          }
        }
      ]
    },
    {
      "cell_type": "code",
      "metadata": {
        "id": "94alBEbRhx_E"
      },
      "source": [
        "x = tf.linspace(0.0, 250, 251)\n",
        "y = dnn_horsepower_model.predict(x)"
      ],
      "execution_count": 50,
      "outputs": []
    },
    {
      "cell_type": "code",
      "metadata": {
        "id": "2K_Ryk3Yhys0",
        "colab": {
          "base_uri": "https://localhost:8080/",
          "height": 279
        },
        "outputId": "a81c5a65-f68a-45e0-b093-0c6946bed8cf"
      },
      "source": [
        "plot_horsepower(x, y)"
      ],
      "execution_count": 51,
      "outputs": [
        {
          "output_type": "display_data",
          "data": {
            "image/png": "[encoded data removed]",
            "text/plain": [
              "<Figure size 432x288 with 1 Axes>"
            ]
          },
          "metadata": {
            "tags": [],
            "needs_background": "light"
          }
        }
      ]
    },
    {
      "cell_type": "code",
      "metadata": {
        "id": "_7QDUWcqhz1e"
      },
      "source": [
        "test_results['dnn_horsepower_model'] = dnn_horsepower_model.evaluate(\n",
        "    test_features['Horsepower'], test_labels,\n",
        "    verbose=0)"
      ],
      "execution_count": 52,
      "outputs": []
    },
    {
      "cell_type": "code",
      "metadata": {
        "id": "VVYWH0VnUPsV",
        "colab": {
          "base_uri": "https://localhost:8080/",
          "height": 419
        },
        "outputId": "87047a7d-6de4-48bb-a04a-da740d525335"
      },
      "source": [
        "train_features\n"
      ],
      "execution_count": 53,
      "outputs": [
        {
          "output_type": "execute_result",
          "data": {
            "text/html": [
              "<div>\n",
              "<style scoped>\n",
              "    .dataframe tbody tr th:only-of-type {\n",
              "        vertical-align: middle;\n",
              "    }\n",
              "\n",
              "    .dataframe tbody tr th {\n",
              "        vertical-align: top;\n",
              "    }\n",
              "\n",
              "    .dataframe thead th {\n",
              "        text-align: right;\n",
              "    }\n",
              "</style>\n",
              "<table border=\"1\" class=\"dataframe\">\n",
              "  <thead>\n",
              "    <tr style=\"text-align: right;\">\n",
              "      <th></th>\n",
              "      <th>Cylinders</th>\n",
              "      <th>Displacement</th>\n",
              "      <th>Horsepower</th>\n",
              "      <th>Weight</th>\n",
              "      <th>Acceleration</th>\n",
              "      <th>Model Year</th>\n",
              "      <th>Europe</th>\n",
              "      <th>Japan</th>\n",
              "      <th>USA</th>\n",
              "    </tr>\n",
              "  </thead>\n",
              "  <tbody>\n",
              "    <tr>\n",
              "      <th>146</th>\n",
              "      <td>4</td>\n",
              "      <td>90.0</td>\n",
              "      <td>75.0</td>\n",
              "      <td>2125.0</td>\n",
              "      <td>14.5</td>\n",
              "      <td>74</td>\n",
              "      <td>0</td>\n",
              "      <td>0</td>\n",
              "      <td>1</td>\n",
              "    </tr>\n",
              "    <tr>\n",
              "      <th>282</th>\n",
              "      <td>4</td>\n",
              "      <td>140.0</td>\n",
              "      <td>88.0</td>\n",
              "      <td>2890.0</td>\n",
              "      <td>17.3</td>\n",
              "      <td>79</td>\n",
              "      <td>0</td>\n",
              "      <td>0</td>\n",
              "      <td>1</td>\n",
              "    </tr>\n",
              "    <tr>\n",
              "      <th>69</th>\n",
              "      <td>8</td>\n",
              "      <td>350.0</td>\n",
              "      <td>160.0</td>\n",
              "      <td>4456.0</td>\n",
              "      <td>13.5</td>\n",
              "      <td>72</td>\n",
              "      <td>0</td>\n",
              "      <td>0</td>\n",
              "      <td>1</td>\n",
              "    </tr>\n",
              "    <tr>\n",
              "      <th>378</th>\n",
              "      <td>4</td>\n",
              "      <td>105.0</td>\n",
              "      <td>63.0</td>\n",
              "      <td>2125.0</td>\n",
              "      <td>14.7</td>\n",
              "      <td>82</td>\n",
              "      <td>0</td>\n",
              "      <td>0</td>\n",
              "      <td>1</td>\n",
              "    </tr>\n",
              "    <tr>\n",
              "      <th>331</th>\n",
              "      <td>4</td>\n",
              "      <td>97.0</td>\n",
              "      <td>67.0</td>\n",
              "      <td>2145.0</td>\n",
              "      <td>18.0</td>\n",
              "      <td>80</td>\n",
              "      <td>0</td>\n",
              "      <td>1</td>\n",
              "      <td>0</td>\n",
              "    </tr>\n",
              "    <tr>\n",
              "      <th>...</th>\n",
              "      <td>...</td>\n",
              "      <td>...</td>\n",
              "      <td>...</td>\n",
              "      <td>...</td>\n",
              "      <td>...</td>\n",
              "      <td>...</td>\n",
              "      <td>...</td>\n",
              "      <td>...</td>\n",
              "      <td>...</td>\n",
              "    </tr>\n",
              "    <tr>\n",
              "      <th>281</th>\n",
              "      <td>6</td>\n",
              "      <td>200.0</td>\n",
              "      <td>85.0</td>\n",
              "      <td>2990.0</td>\n",
              "      <td>18.2</td>\n",
              "      <td>79</td>\n",
              "      <td>0</td>\n",
              "      <td>0</td>\n",
              "      <td>1</td>\n",
              "    </tr>\n",
              "    <tr>\n",
              "      <th>229</th>\n",
              "      <td>8</td>\n",
              "      <td>400.0</td>\n",
              "      <td>180.0</td>\n",
              "      <td>4220.0</td>\n",
              "      <td>11.1</td>\n",
              "      <td>77</td>\n",
              "      <td>0</td>\n",
              "      <td>0</td>\n",
              "      <td>1</td>\n",
              "    </tr>\n",
              "    <tr>\n",
              "      <th>150</th>\n",
              "      <td>4</td>\n",
              "      <td>108.0</td>\n",
              "      <td>93.0</td>\n",
              "      <td>2391.0</td>\n",
              "      <td>15.5</td>\n",
              "      <td>74</td>\n",
              "      <td>0</td>\n",
              "      <td>1</td>\n",
              "      <td>0</td>\n",
              "    </tr>\n",
              "    <tr>\n",
              "      <th>145</th>\n",
              "      <td>4</td>\n",
              "      <td>83.0</td>\n",
              "      <td>61.0</td>\n",
              "      <td>2003.0</td>\n",
              "      <td>19.0</td>\n",
              "      <td>74</td>\n",
              "      <td>0</td>\n",
              "      <td>1</td>\n",
              "      <td>0</td>\n",
              "    </tr>\n",
              "    <tr>\n",
              "      <th>182</th>\n",
              "      <td>4</td>\n",
              "      <td>107.0</td>\n",
              "      <td>86.0</td>\n",
              "      <td>2464.0</td>\n",
              "      <td>15.5</td>\n",
              "      <td>76</td>\n",
              "      <td>1</td>\n",
              "      <td>0</td>\n",
              "      <td>0</td>\n",
              "    </tr>\n",
              "  </tbody>\n",
              "</table>\n",
              "<p>314 rows × 9 columns</p>\n",
              "</div>"
            ],
            "text/plain": [
              "     Cylinders  Displacement  Horsepower  ...  Europe  Japan  USA\n",
              "146          4          90.0        75.0  ...       0      0    1\n",
              "282          4         140.0        88.0  ...       0      0    1\n",
              "69           8         350.0       160.0  ...       0      0    1\n",
              "378          4         105.0        63.0  ...       0      0    1\n",
              "331          4          97.0        67.0  ...       0      1    0\n",
              "..         ...           ...         ...  ...     ...    ...  ...\n",
              "281          6         200.0        85.0  ...       0      0    1\n",
              "229          8         400.0       180.0  ...       0      0    1\n",
              "150          4         108.0        93.0  ...       0      1    0\n",
              "145          4          83.0        61.0  ...       0      1    0\n",
              "182          4         107.0        86.0  ...       1      0    0\n",
              "\n",
              "[314 rows x 9 columns]"
            ]
          },
          "metadata": {
            "tags": []
          },
          "execution_count": 53
        }
      ]
    },
    {
      "cell_type": "code",
      "metadata": {
        "id": "9h-FVleOiP44",
        "colab": {
          "base_uri": "https://localhost:8080/"
        },
        "outputId": "464929ec-892b-4cb7-c2f8-6bfe140b85cf"
      },
      "source": [
        "dnn_model = build_and_compile_model(normalizer)\n",
        "dnn_model.summary()"
      ],
      "execution_count": 54,
      "outputs": [
        {
          "output_type": "stream",
          "text": [
            "Model: \"sequential_3\"\n",
            "_________________________________________________________________\n",
            "Layer (type)                 Output Shape              Param #   \n",
            "=================================================================\n",
            "normalization (Normalization (None, 9)                 19        \n",
            "_________________________________________________________________\n",
            "dense_5 (Dense)              (None, 64)                640       \n",
            "_________________________________________________________________\n",
            "dense_6 (Dense)              (None, 64)                4160      \n",
            "_________________________________________________________________\n",
            "dense_7 (Dense)              (None, 1)                 65        \n",
            "=================================================================\n",
            "Total params: 4,884\n",
            "Trainable params: 4,865\n",
            "Non-trainable params: 19\n",
            "_________________________________________________________________\n"
          ],
          "name": "stdout"
        }
      ]
    },
    {
      "cell_type": "code",
      "metadata": {
        "id": "ehVyvgxPiRWB",
        "colab": {
          "base_uri": "https://localhost:8080/"
        },
        "outputId": "c4b9500c-a1a8-46c2-b79b-9ad2107c66d5"
      },
      "source": [
        "%%time\n",
        "history = dnn_model.fit(\n",
        "    train_features, train_labels,\n",
        "    validation_split=0.2,\n",
        "    verbose=0, epochs=100)"
      ],
      "execution_count": 55,
      "outputs": [
        {
          "output_type": "stream",
          "text": [
            "CPU times: user 3.28 s, sys: 200 ms, total: 3.48 s\n",
            "Wall time: 3.15 s\n"
          ],
          "name": "stdout"
        }
      ]
    },
    {
      "cell_type": "code",
      "metadata": {
        "id": "sBW3O9d6iSlR",
        "colab": {
          "base_uri": "https://localhost:8080/",
          "height": 283
        },
        "outputId": "ae4f4bad-1496-47b6-cd65-b174174a9cac"
      },
      "source": [
        "plot_loss(history)"
      ],
      "execution_count": 56,
      "outputs": [
        {
          "output_type": "display_data",
          "data": {
            "image/png": "[encoded data removed]",
            "text/plain": [
              "<Figure size 432x288 with 1 Axes>"
            ]
          },
          "metadata": {
            "tags": [],
            "needs_background": "light"
          }
        }
      ]
    },
    {
      "cell_type": "code",
      "metadata": {
        "id": "pLAVZITDiTnu"
      },
      "source": [
        "test_results['dnn_model'] = dnn_model.evaluate(test_features, test_labels, verbose=0)"
      ],
      "execution_count": 57,
      "outputs": []
    },
    {
      "cell_type": "markdown",
      "metadata": {
        "id": "d7PGMOu2UW-x"
      },
      "source": [
        "4가지 분석 결과"
      ]
    },
    {
      "cell_type": "code",
      "metadata": {
        "id": "gM6XT5YXiUz8",
        "colab": {
          "base_uri": "https://localhost:8080/",
          "height": 173
        },
        "outputId": "8be4fea0-e2cc-4ec4-811b-8336d7b0a161"
      },
      "source": [
        "pd.DataFrame(test_results, index=['Mean absolute error [MPG]']).T"
      ],
      "execution_count": 58,
      "outputs": [
        {
          "output_type": "execute_result",
          "data": {
            "text/html": [
              "<div>\n",
              "<style scoped>\n",
              "    .dataframe tbody tr th:only-of-type {\n",
              "        vertical-align: middle;\n",
              "    }\n",
              "\n",
              "    .dataframe tbody tr th {\n",
              "        vertical-align: top;\n",
              "    }\n",
              "\n",
              "    .dataframe thead th {\n",
              "        text-align: right;\n",
              "    }\n",
              "</style>\n",
              "<table border=\"1\" class=\"dataframe\">\n",
              "  <thead>\n",
              "    <tr style=\"text-align: right;\">\n",
              "      <th></th>\n",
              "      <th>Mean absolute error [MPG]</th>\n",
              "    </tr>\n",
              "  </thead>\n",
              "  <tbody>\n",
              "    <tr>\n",
              "      <th>horsepower_model</th>\n",
              "      <td>3.653892</td>\n",
              "    </tr>\n",
              "    <tr>\n",
              "      <th>linear_model</th>\n",
              "      <td>2.459056</td>\n",
              "    </tr>\n",
              "    <tr>\n",
              "      <th>dnn_horsepower_model</th>\n",
              "      <td>2.908718</td>\n",
              "    </tr>\n",
              "    <tr>\n",
              "      <th>dnn_model</th>\n",
              "      <td>1.715195</td>\n",
              "    </tr>\n",
              "  </tbody>\n",
              "</table>\n",
              "</div>"
            ],
            "text/plain": [
              "                      Mean absolute error [MPG]\n",
              "horsepower_model                       3.653892\n",
              "linear_model                           2.459056\n",
              "dnn_horsepower_model                   2.908718\n",
              "dnn_model                              1.715195"
            ]
          },
          "metadata": {
            "tags": []
          },
          "execution_count": 58
        }
      ]
    },
    {
      "cell_type": "code",
      "metadata": {
        "id": "cSIzoXY3UabH",
        "colab": {
          "base_uri": "https://localhost:8080/",
          "height": 419
        },
        "outputId": "9b84e980-4133-4ecd-fc5b-b580177d5f95"
      },
      "source": [
        "test_features\n"
      ],
      "execution_count": 59,
      "outputs": [
        {
          "output_type": "execute_result",
          "data": {
            "text/html": [
              "<div>\n",
              "<style scoped>\n",
              "    .dataframe tbody tr th:only-of-type {\n",
              "        vertical-align: middle;\n",
              "    }\n",
              "\n",
              "    .dataframe tbody tr th {\n",
              "        vertical-align: top;\n",
              "    }\n",
              "\n",
              "    .dataframe thead th {\n",
              "        text-align: right;\n",
              "    }\n",
              "</style>\n",
              "<table border=\"1\" class=\"dataframe\">\n",
              "  <thead>\n",
              "    <tr style=\"text-align: right;\">\n",
              "      <th></th>\n",
              "      <th>Cylinders</th>\n",
              "      <th>Displacement</th>\n",
              "      <th>Horsepower</th>\n",
              "      <th>Weight</th>\n",
              "      <th>Acceleration</th>\n",
              "      <th>Model Year</th>\n",
              "      <th>Europe</th>\n",
              "      <th>Japan</th>\n",
              "      <th>USA</th>\n",
              "    </tr>\n",
              "  </thead>\n",
              "  <tbody>\n",
              "    <tr>\n",
              "      <th>9</th>\n",
              "      <td>8</td>\n",
              "      <td>390.0</td>\n",
              "      <td>190.0</td>\n",
              "      <td>3850.0</td>\n",
              "      <td>8.5</td>\n",
              "      <td>70</td>\n",
              "      <td>0</td>\n",
              "      <td>0</td>\n",
              "      <td>1</td>\n",
              "    </tr>\n",
              "    <tr>\n",
              "      <th>25</th>\n",
              "      <td>8</td>\n",
              "      <td>360.0</td>\n",
              "      <td>215.0</td>\n",
              "      <td>4615.0</td>\n",
              "      <td>14.0</td>\n",
              "      <td>70</td>\n",
              "      <td>0</td>\n",
              "      <td>0</td>\n",
              "      <td>1</td>\n",
              "    </tr>\n",
              "    <tr>\n",
              "      <th>28</th>\n",
              "      <td>8</td>\n",
              "      <td>304.0</td>\n",
              "      <td>193.0</td>\n",
              "      <td>4732.0</td>\n",
              "      <td>18.5</td>\n",
              "      <td>70</td>\n",
              "      <td>0</td>\n",
              "      <td>0</td>\n",
              "      <td>1</td>\n",
              "    </tr>\n",
              "    <tr>\n",
              "      <th>31</th>\n",
              "      <td>4</td>\n",
              "      <td>113.0</td>\n",
              "      <td>95.0</td>\n",
              "      <td>2228.0</td>\n",
              "      <td>14.0</td>\n",
              "      <td>71</td>\n",
              "      <td>0</td>\n",
              "      <td>1</td>\n",
              "      <td>0</td>\n",
              "    </tr>\n",
              "    <tr>\n",
              "      <th>33</th>\n",
              "      <td>6</td>\n",
              "      <td>232.0</td>\n",
              "      <td>100.0</td>\n",
              "      <td>2634.0</td>\n",
              "      <td>13.0</td>\n",
              "      <td>71</td>\n",
              "      <td>0</td>\n",
              "      <td>0</td>\n",
              "      <td>1</td>\n",
              "    </tr>\n",
              "    <tr>\n",
              "      <th>...</th>\n",
              "      <td>...</td>\n",
              "      <td>...</td>\n",
              "      <td>...</td>\n",
              "      <td>...</td>\n",
              "      <td>...</td>\n",
              "      <td>...</td>\n",
              "      <td>...</td>\n",
              "      <td>...</td>\n",
              "      <td>...</td>\n",
              "    </tr>\n",
              "    <tr>\n",
              "      <th>369</th>\n",
              "      <td>4</td>\n",
              "      <td>112.0</td>\n",
              "      <td>88.0</td>\n",
              "      <td>2395.0</td>\n",
              "      <td>18.0</td>\n",
              "      <td>82</td>\n",
              "      <td>0</td>\n",
              "      <td>0</td>\n",
              "      <td>1</td>\n",
              "    </tr>\n",
              "    <tr>\n",
              "      <th>375</th>\n",
              "      <td>4</td>\n",
              "      <td>105.0</td>\n",
              "      <td>74.0</td>\n",
              "      <td>1980.0</td>\n",
              "      <td>15.3</td>\n",
              "      <td>82</td>\n",
              "      <td>1</td>\n",
              "      <td>0</td>\n",
              "      <td>0</td>\n",
              "    </tr>\n",
              "    <tr>\n",
              "      <th>382</th>\n",
              "      <td>4</td>\n",
              "      <td>108.0</td>\n",
              "      <td>70.0</td>\n",
              "      <td>2245.0</td>\n",
              "      <td>16.9</td>\n",
              "      <td>82</td>\n",
              "      <td>0</td>\n",
              "      <td>1</td>\n",
              "      <td>0</td>\n",
              "    </tr>\n",
              "    <tr>\n",
              "      <th>384</th>\n",
              "      <td>4</td>\n",
              "      <td>91.0</td>\n",
              "      <td>67.0</td>\n",
              "      <td>1965.0</td>\n",
              "      <td>15.7</td>\n",
              "      <td>82</td>\n",
              "      <td>0</td>\n",
              "      <td>1</td>\n",
              "      <td>0</td>\n",
              "    </tr>\n",
              "    <tr>\n",
              "      <th>396</th>\n",
              "      <td>4</td>\n",
              "      <td>120.0</td>\n",
              "      <td>79.0</td>\n",
              "      <td>2625.0</td>\n",
              "      <td>18.6</td>\n",
              "      <td>82</td>\n",
              "      <td>0</td>\n",
              "      <td>0</td>\n",
              "      <td>1</td>\n",
              "    </tr>\n",
              "  </tbody>\n",
              "</table>\n",
              "<p>78 rows × 9 columns</p>\n",
              "</div>"
            ],
            "text/plain": [
              "     Cylinders  Displacement  Horsepower  ...  Europe  Japan  USA\n",
              "9            8         390.0       190.0  ...       0      0    1\n",
              "25           8         360.0       215.0  ...       0      0    1\n",
              "28           8         304.0       193.0  ...       0      0    1\n",
              "31           4         113.0        95.0  ...       0      1    0\n",
              "33           6         232.0       100.0  ...       0      0    1\n",
              "..         ...           ...         ...  ...     ...    ...  ...\n",
              "369          4         112.0        88.0  ...       0      0    1\n",
              "375          4         105.0        74.0  ...       1      0    0\n",
              "382          4         108.0        70.0  ...       0      1    0\n",
              "384          4          91.0        67.0  ...       0      1    0\n",
              "396          4         120.0        79.0  ...       0      0    1\n",
              "\n",
              "[78 rows x 9 columns]"
            ]
          },
          "metadata": {
            "tags": []
          },
          "execution_count": 59
        }
      ]
    },
    {
      "cell_type": "code",
      "metadata": {
        "id": "fRhwEr80iWBK",
        "colab": {
          "base_uri": "https://localhost:8080/",
          "height": 283
        },
        "outputId": "497af347-1415-4e3d-81e3-eaf1db386d43"
      },
      "source": [
        "test_predictions = dnn_model.predict(test_features).flatten()\n",
        "\n",
        "a = plt.axes(aspect='equal')\n",
        "plt.scatter(test_labels, test_predictions)\n",
        "plt.xlabel('True Values [MPG]')\n",
        "plt.ylabel('Predictions [MPG]')\n",
        "lims = [0, 50]\n",
        "plt.xlim(lims)\n",
        "plt.ylim(lims)\n",
        "_ = plt.plot(lims, lims)"
      ],
      "execution_count": 60,
      "outputs": [
        {
          "output_type": "display_data",
          "data": {
            "image/png": "[encoded data removed]",
            "text/plain": [
              "<Figure size 432x288 with 1 Axes>"
            ]
          },
          "metadata": {
            "tags": [],
            "needs_background": "light"
          }
        }
      ]
    },
    {
      "cell_type": "code",
      "metadata": {
        "id": "aDFlJeh6iXDY",
        "colab": {
          "base_uri": "https://localhost:8080/",
          "height": 279
        },
        "outputId": "5e7d2834-b2d5-4be4-a591-13d4b2000c8e"
      },
      "source": [
        "error = test_predictions - test_labels\n",
        "plt.hist(error, bins=25)\n",
        "plt.xlabel('Prediction Error [MPG]')\n",
        "_ = plt.ylabel('Count')"
      ],
      "execution_count": 61,
      "outputs": [
        {
          "output_type": "display_data",
          "data": {
            "image/png": "[encoded data removed]",
            "text/plain": [
              "<Figure size 432x288 with 1 Axes>"
            ]
          },
          "metadata": {
            "tags": [],
            "needs_background": "light"
          }
        }
      ]
    },
    {
      "cell_type": "code",
      "metadata": {
        "id": "m3jfhPwmUgTi",
        "colab": {
          "base_uri": "https://localhost:8080/"
        },
        "outputId": "df662c95-dc32-47fc-c21e-7afabe1fa652"
      },
      "source": [
        "dnn_model.save('dnn_model')\n"
      ],
      "execution_count": 62,
      "outputs": [
        {
          "output_type": "stream",
          "text": [
            "INFO:tensorflow:Assets written to: dnn_model/assets\n"
          ],
          "name": "stdout"
        }
      ]
    },
    {
      "cell_type": "code",
      "metadata": {
        "id": "ibfdXZ7IUg6q"
      },
      "source": [
        "\n",
        "reloaded = tf.keras.models.load_model('dnn_model')\n",
        "\n",
        "test_results['reloaded'] = reloaded.evaluate(\n",
        "    test_features, test_labels, verbose=0)"
      ],
      "execution_count": 63,
      "outputs": []
    },
    {
      "cell_type": "code",
      "metadata": {
        "id": "QmV4BvPGUhHQ",
        "colab": {
          "base_uri": "https://localhost:8080/",
          "height": 204
        },
        "outputId": "4602ca4e-2bb7-4eb3-89a9-b91ad75b3cb4"
      },
      "source": [
        "pd.DataFrame(test_results, index=['Mean absolute error [MPG]']).T\n"
      ],
      "execution_count": 64,
      "outputs": [
        {
          "output_type": "execute_result",
          "data": {
            "text/html": [
              "<div>\n",
              "<style scoped>\n",
              "    .dataframe tbody tr th:only-of-type {\n",
              "        vertical-align: middle;\n",
              "    }\n",
              "\n",
              "    .dataframe tbody tr th {\n",
              "        vertical-align: top;\n",
              "    }\n",
              "\n",
              "    .dataframe thead th {\n",
              "        text-align: right;\n",
              "    }\n",
              "</style>\n",
              "<table border=\"1\" class=\"dataframe\">\n",
              "  <thead>\n",
              "    <tr style=\"text-align: right;\">\n",
              "      <th></th>\n",
              "      <th>Mean absolute error [MPG]</th>\n",
              "    </tr>\n",
              "  </thead>\n",
              "  <tbody>\n",
              "    <tr>\n",
              "      <th>horsepower_model</th>\n",
              "      <td>3.653892</td>\n",
              "    </tr>\n",
              "    <tr>\n",
              "      <th>linear_model</th>\n",
              "      <td>2.459056</td>\n",
              "    </tr>\n",
              "    <tr>\n",
              "      <th>dnn_horsepower_model</th>\n",
              "      <td>2.908718</td>\n",
              "    </tr>\n",
              "    <tr>\n",
              "      <th>dnn_model</th>\n",
              "      <td>1.715195</td>\n",
              "    </tr>\n",
              "    <tr>\n",
              "      <th>reloaded</th>\n",
              "      <td>1.715195</td>\n",
              "    </tr>\n",
              "  </tbody>\n",
              "</table>\n",
              "</div>"
            ],
            "text/plain": [
              "                      Mean absolute error [MPG]\n",
              "horsepower_model                       3.653892\n",
              "linear_model                           2.459056\n",
              "dnn_horsepower_model                   2.908718\n",
              "dnn_model                              1.715195\n",
              "reloaded                               1.715195"
            ]
          },
          "metadata": {
            "tags": []
          },
          "execution_count": 64
        }
      ]
    }
  ]
}